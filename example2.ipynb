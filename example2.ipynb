{
 "cells": [
  {
   "cell_type": "code",
   "execution_count": 1,
   "metadata": {},
   "outputs": [],
   "source": [
    "import matplotlib.pyplot as plt\n",
    "from mpl_toolkits.mplot3d import Axes3D\n",
    "import numpy as np\n",
    "import cv2\n",
    "\n",
    "from camera import Camera\n",
    "import structure\n",
    "import processor\n",
    "import features"
   ]
  },
  {
   "cell_type": "code",
   "execution_count": 2,
   "metadata": {},
   "outputs": [
    {
     "name": "stdout",
     "output_type": "stream",
     "text": [
      "Bilder geladen\n"
     ]
    }
   ],
   "source": [
    "img1 = cv2.imread('../eigenerAnsatz/bildverband2/DJI_0289.JPG')\n",
    "img2 = cv2.imread('../eigenerAnsatz/bildverband2/DJI_0288.JPG')\n",
    "img3 = cv2.imread('../eigenerAnsatz/bildverband2/DJI_0287.JPG')\n",
    "print(\"Bilder geladen\")"
   ]
  },
  {
   "cell_type": "code",
   "execution_count": 3,
   "metadata": {},
   "outputs": [],
   "source": [
    "sift = cv2.SIFT_create()\n",
    "\n",
    "# find the keypoints and descriptors with SIFT\n",
    "kp1, des1 = sift.detectAndCompute(\n",
    "    cv2.cvtColor(img1, cv2.COLOR_BGR2GRAY), None)\n",
    "kp2, des2 = sift.detectAndCompute(\n",
    "    cv2.cvtColor(img2, cv2.COLOR_BGR2GRAY), None)\n",
    "kp3, des3 = sift.detectAndCompute(\n",
    "    cv2.cvtColor(img3, cv2.COLOR_BGR2GRAY), None)\n",
    "\n",
    "kp1 = np.array([n.pt for n in kp1])\n",
    "kp2 = np.array([n.pt for n in kp2])\n",
    "kp3 = np.array([n.pt for n in kp3])\n"
   ]
  },
  {
   "cell_type": "code",
   "execution_count": 4,
   "metadata": {},
   "outputs": [],
   "source": [
    "def matchPoints(kp1,des1,kp2,des2):\n",
    "    # Find point matches\n",
    "    FLANN_INDEX_KDTREE = 1\n",
    "    index_params = dict(algorithm=FLANN_INDEX_KDTREE, trees=5)\n",
    "    search_params = dict(checks=100)\n",
    "    flann = cv2.FlannBasedMatcher(index_params, search_params)\n",
    "    matches = flann.knnMatch(des1, des2, k=2)\n",
    "\n",
    "    # Apply Lowe's SIFT matching ratio test\n",
    "    good = []\n",
    "    for m, n in matches:\n",
    "        if m.distance < 0.8 * n.distance:\n",
    "            good.append(m)\n",
    "\n",
    "    paare = np.array([[m.queryIdx, m.trainIdx] for m in good])\n",
    "    \n",
    "    # Constrain matches to fit homography\n",
    "    retval, mask = cv2.findHomography(\n",
    "        kp1[paare[:, 0]], kp2[paare[:, 1]], cv2.RANSAC, 100.0)\n",
    "    mask = mask.ravel()\n",
    "\n",
    "    # We select only inlier points\n",
    "    paare = paare[mask == 1]\n",
    "    return paare"
   ]
  },
  {
   "cell_type": "code",
   "execution_count": 5,
   "metadata": {},
   "outputs": [],
   "source": [
    "paare = matchPoints(kp1, des1, kp2, des2)\n",
    "paare2 = matchPoints(kp2[paare[:, 1]], des2[paare[:, 1]], kp3, des3)\n"
   ]
  },
  {
   "cell_type": "code",
   "execution_count": 6,
   "metadata": {},
   "outputs": [],
   "source": [
    "pts1 = kp1[paare[:,0]].T\n",
    "pts2 = kp2[paare[:,1]].T\n",
    "pts3 = kp3[paare2[:,1]].T"
   ]
  },
  {
   "cell_type": "code",
   "execution_count": 7,
   "metadata": {},
   "outputs": [],
   "source": [
    "points1 = processor.cart2hom(pts1)\n",
    "points2 = processor.cart2hom(pts2)\n",
    "points3 = processor.cart2hom(pts3)\n"
   ]
  },
  {
   "cell_type": "code",
   "execution_count": 238,
   "metadata": {},
   "outputs": [
    {
     "name": "stderr",
     "output_type": "stream",
     "text": [
      "qt.qpa.wayland: Wayland does not support QWindow::requestActivate()\n"
     ]
    }
   ],
   "source": [
    "fig, ax = plt.subplots(1, 3)\n",
    "ax[0].autoscale_view('tight')\n",
    "ax[0].imshow(cv2.cvtColor(img1, cv2.COLOR_BGR2RGB))\n",
    "ax[0].plot(points1[0], points1[1], 'r.')\n",
    "ax[1].autoscale_view('tight')\n",
    "ax[1].imshow(cv2.cvtColor(img2, cv2.COLOR_BGR2RGB))\n",
    "ax[1].plot(points2[0], points2[1], 'r.')\n",
    "ax[2].autoscale_view('tight')\n",
    "ax[2].imshow(cv2.cvtColor(img3, cv2.COLOR_BGR2RGB))\n",
    "ax[2].plot(kp3[paare2[:, 1], 0], kp3[paare2[:, 1], 1], 'r.')\n",
    "fig.show()"
   ]
  },
  {
   "cell_type": "code",
   "execution_count": 9,
   "metadata": {},
   "outputs": [
    {
     "data": {
      "text/plain": [
       "array([[3.03065e+03, 0.00000e+00, 1.99400e+03],\n",
       "       [0.00000e+00, 3.03065e+03, 1.51700e+03],\n",
       "       [0.00000e+00, 0.00000e+00, 1.00000e+00]])"
      ]
     },
     "execution_count": 9,
     "metadata": {},
     "output_type": "execute_result"
    }
   ],
   "source": [
    "height, width, ch = img1.shape\n",
    "intrinsic = np.array([  # for dino\n",
    "    [3030.65, 0, width / 2-6],\n",
    "    [0, 3030.65, height / 2+17],\n",
    "    [0, 0, 1]])\n",
    "intrinsic"
   ]
  },
  {
   "cell_type": "code",
   "execution_count": 10,
   "metadata": {},
   "outputs": [],
   "source": [
    "def scale_and_translate_points(points):\n",
    "    \"\"\" Scale and translate image points so that centroid of the points\n",
    "        are at the origin and avg distance to the origin is equal to sqrt(2).\n",
    "    :param points: array of homogenous point (3 x n)\n",
    "    :returns: array of same input shape and its normalization matrix\n",
    "    \"\"\"\n",
    "    x = points[0]\n",
    "    y = points[1]\n",
    "    center = points.mean(axis=1)  # mean of each row\n",
    "    cx = x - center[0]  # center the points\n",
    "    cy = y - center[1]\n",
    "    dist = np.sqrt(np.power(cx, 2) + np.power(cy, 2))\n",
    "    scale = np.sqrt(2) / dist.mean()\n",
    "    norm3d = np.array([\n",
    "        [scale, 0, -scale * center[0]],\n",
    "        [0, scale, -scale * center[1]],\n",
    "        [0, 0, 1]\n",
    "    ])\n",
    "\n",
    "    return np.dot(norm3d, points), norm3d\n"
   ]
  },
  {
   "cell_type": "code",
   "execution_count": 11,
   "metadata": {},
   "outputs": [],
   "source": [
    "def correspondence_matrix(p1, p2):\n",
    "    \"\"\"Each row in the A matrix below is constructed as\n",
    "        [x'*x, x'*y, x', y'*x, y'*y, y', x, y, 1]\"\"\"\n",
    "    p1x, p1y = p1[:2]\n",
    "    p2x, p2y = p2[:2]\n",
    "\n",
    "    return np.array([\n",
    "        p1x * p2x, p1x * p2y, p1x,\n",
    "        p1y * p2x, p1y * p2y, p1y,\n",
    "        p2x, p2y, np.ones(len(p1x))\n",
    "    ]).T\n"
   ]
  },
  {
   "cell_type": "code",
   "execution_count": 12,
   "metadata": {},
   "outputs": [],
   "source": [
    "def compute_essential_normalized(p1, p2):\n",
    "    \"\"\" Computes the fundamental or essential matrix from corresponding points\n",
    "        using the normalized 8 point algorithm.\n",
    "    :input p1, p2: corresponding points with shape 3 x n\n",
    "    :returns: fundamental or essential matrix with shape 3 x 3\n",
    "    \"\"\"\n",
    "    n = p1.shape[1]\n",
    "    if p2.shape[1] != n:\n",
    "        raise ValueError('Number of points do not match.')\n",
    "\n",
    "    # preprocess image coordinates\n",
    "    p1n, T1 = scale_and_translate_points(p1)\n",
    "    p2n, T2 = scale_and_translate_points(p2)\n",
    "\n",
    "    # compute F or E with the coordinates\n",
    "    A = correspondence_matrix(p1n, p2n)\n",
    "    # compute linear least square solution\n",
    "    U, S, V = np.linalg.svd(A)\n",
    "    F = V[-1].reshape(3, 3)\n",
    "\n",
    "    # constrain F. Make rank 2 by zeroing out last singular value\n",
    "    U, S, V = np.linalg.svd(F)\n",
    "    S[-1] = 0\n",
    "    S = [1, 1, 0]  # Force rank 2 and equal eigenvalues\n",
    "    F = U @ np.diag(S) @ V\n",
    "\n",
    "    # reverse preprocessing of coordinates\n",
    "    # We know that P1' E P2 = 0\n",
    "    F = T1.T@F@T2\n",
    "\n",
    "    return F / F[2, 2]\n"
   ]
  },
  {
   "cell_type": "code",
   "execution_count": 13,
   "metadata": {},
   "outputs": [],
   "source": [
    "# Calculate essential matrix with 2d points.\n",
    "# Result will be up to a scale\n",
    "# First, normalize points\n",
    "points1n = np.dot(np.linalg.inv(intrinsic), points1)\n",
    "points2n = np.dot(np.linalg.inv(intrinsic), points2)\n",
    "#cv2.undistortPoints(pts1, intrinsic, None)[:,0,:].T"
   ]
  },
  {
   "cell_type": "code",
   "execution_count": 14,
   "metadata": {},
   "outputs": [
    {
     "name": "stdout",
     "output_type": "stream",
     "text": [
      "Computed essential matrix: [[-0.03157542 -1.         -0.23135702]\n",
      " [ 0.95870465 -0.01264242 -0.00189078]\n",
      " [ 0.25888847  0.20644202  0.04803392]]\n"
     ]
    }
   ],
   "source": [
    "E = compute_essential_normalized(points1n, points2n)\n",
    "#E1 = structure.compute_essential_normalized(points1n, points2an)\n",
    "print('Computed essential matrix:', (-E / E[0][1]))\n"
   ]
  },
  {
   "cell_type": "code",
   "execution_count": 15,
   "metadata": {},
   "outputs": [
    {
     "data": {
      "text/plain": [
       "array([[1, 0, 0, 0],\n",
       "       [0, 1, 0, 0],\n",
       "       [0, 0, 1, 0]])"
      ]
     },
     "execution_count": 15,
     "metadata": {},
     "output_type": "execute_result"
    }
   ],
   "source": [
    "P1 = np.array([[1, 0, 0, 0], [0, 1, 0, 0], [0, 0, 1, 0]])\n",
    "P1"
   ]
  },
  {
   "cell_type": "code",
   "execution_count": 16,
   "metadata": {},
   "outputs": [
    {
     "data": {
      "text/plain": [
       "array([[ 0.97981755,  0.04640084, -0.19443387, -0.00105049],\n",
       "       [-0.04064291,  0.99861194,  0.03350133, -0.22537157],\n",
       "       [ 0.19571847, -0.02492283,  0.98034337,  0.97427232]])"
      ]
     },
     "execution_count": 16,
     "metadata": {},
     "output_type": "execute_result"
    }
   ],
   "source": [
    "_,R,t,_= cv2.recoverPose(E,pts1.T,pts2.T, intrinsic)\n",
    "R = np.linalg.inv(R)\n",
    "t = -R@t\n",
    "P2 = np.c_[R,t]\n",
    "P2\n"
   ]
  },
  {
   "cell_type": "code",
   "execution_count": 17,
   "metadata": {},
   "outputs": [],
   "source": [
    "#tripoints3d = structure.reconstruct_points(points1n, points2n, P1, P2)\n",
    "tripoints3d = structure.linear_triangulation(\n",
    "    points1n, points2n, P1, P2)\n"
   ]
  },
  {
   "cell_type": "code",
   "execution_count": 18,
   "metadata": {},
   "outputs": [
    {
     "name": "stderr",
     "output_type": "stream",
     "text": [
      "QSocketNotifier: Can only be used with threads started with QThread\n",
      "qt.qpa.wayland: Wayland does not support QWindow::requestActivate()\n"
     ]
    }
   ],
   "source": [
    "%matplotlib qt\n",
    "fig = plt.figure()\n",
    "fig.suptitle('3D reconstructed', fontsize=16)\n",
    "ax = fig.add_subplot(projection='3d')\n",
    "ax.plot(tripoints3d[0], tripoints3d[1], tripoints3d[2], 'r.')\n",
    "ax.plot([0], [0], [0], 'g.')\n",
    "ax.plot(-P2[0, 3], -P2[1, 3], -P2[2, 3], 'g.')\n",
    "ax.set_xlabel('x axis')\n",
    "ax.set_ylabel('y axis')\n",
    "ax.set_zlabel('z axis')\n",
    "ax.view_init(elev=135, azim=90)\n",
    "#plt.axis('square')\n",
    "plt.show()"
   ]
  },
  {
   "cell_type": "code",
   "execution_count": 19,
   "metadata": {},
   "outputs": [
    {
     "data": {
      "text/plain": [
       "array([[-1.01237862, -0.2723046 ,  1.5527952 ,  1.        ],\n",
       "       [-0.97998248, -0.45032163,  1.5206182 ,  1.        ],\n",
       "       [-0.97333944, -0.492564  ,  1.51477244,  1.        ],\n",
       "       ...,\n",
       "       [ 0.86804847, -0.14806936,  1.32003067,  1.        ],\n",
       "       [ 0.87509442, -0.03954603,  1.33156662,  1.        ],\n",
       "       [ 0.86850577, -0.1444281 ,  1.31957639,  1.        ]])"
      ]
     },
     "execution_count": 19,
     "metadata": {},
     "output_type": "execute_result"
    }
   ],
   "source": [
    "tripoints3d[:,paare2[:,0]].T"
   ]
  },
  {
   "cell_type": "code",
   "execution_count": 20,
   "metadata": {},
   "outputs": [
    {
     "data": {
      "text/plain": [
       "(True,\n",
       " array([[0.23347676],\n",
       "        [0.29347857],\n",
       "        [0.04032486]]),\n",
       " array([[-0.9576606 ],\n",
       "        [-0.21836462],\n",
       "        [ 0.91359771]]))"
      ]
     },
     "execution_count": 20,
     "metadata": {},
     "output_type": "execute_result"
    }
   ],
   "source": [
    "retval, r2,t2,_ = cv2.solvePnPRansac(tripoints3d[:3,paare2[:,0]].T, kp3[paare2[:,1]], intrinsic, None)\n",
    "retval, r2,t2"
   ]
  },
  {
   "cell_type": "code",
   "execution_count": 21,
   "metadata": {},
   "outputs": [
    {
     "data": {
      "text/plain": [
       "array([[ 0.95663986, -0.00551953,  0.29122108, -0.9576606 ],\n",
       "       [ 0.07323144,  0.97226245, -0.22213257, -0.21836462],\n",
       "       [-0.28191726,  0.23382741,  0.93050921,  0.91359771]])"
      ]
     },
     "execution_count": 21,
     "metadata": {},
     "output_type": "execute_result"
    }
   ],
   "source": [
    "R2,_ = cv2.Rodrigues(r2)\n",
    "P3 = np.c_[R2,t2]\n",
    "P3"
   ]
  },
  {
   "cell_type": "code",
   "execution_count": 22,
   "metadata": {},
   "outputs": [
    {
     "data": {
      "text/plain": [
       "array([[-0.58855988, -0.59437814, -0.5953235 , ...,  0.13811134,\n",
       "         0.14129843,  0.13844267],\n",
       "       [-0.36082361, -0.43854992, -0.45736602, ..., -0.31761943,\n",
       "        -0.25845193, -0.31562222],\n",
       "       [ 1.        ,  1.        ,  1.        , ...,  1.        ,\n",
       "         1.        ,  1.        ]])"
      ]
     },
     "execution_count": 22,
     "metadata": {},
     "output_type": "execute_result"
    }
   ],
   "source": [
    "points3n = np.dot(np.linalg.inv(intrinsic), points3)\n",
    "points3n\n"
   ]
  },
  {
   "cell_type": "code",
   "execution_count": 23,
   "metadata": {},
   "outputs": [
    {
     "data": {
      "text/plain": [
       "(4, 651)"
      ]
     },
     "execution_count": 23,
     "metadata": {},
     "output_type": "execute_result"
    }
   ],
   "source": [
    "tripoints3d2 = structure.linear_triangulation(\n",
    "    points2n.T[paare2[:, 0]].T, points3n, P2, P3)\n",
    "tripoints3d2.shape"
   ]
  },
  {
   "cell_type": "code",
   "execution_count": 24,
   "metadata": {},
   "outputs": [
    {
     "name": "stderr",
     "output_type": "stream",
     "text": [
      "qt.qpa.wayland: Wayland does not support QWindow::requestActivate()\n"
     ]
    }
   ],
   "source": [
    "%matplotlib qt\n",
    "fig = plt.figure()\n",
    "fig.suptitle('3D reconstructed', fontsize=16)\n",
    "ax = fig.add_subplot(projection='3d')\n",
    "ax.plot(tripoints3d[0], tripoints3d[1], tripoints3d[2], 'r.')\n",
    "ax.plot(tripoints3d2[0], tripoints3d2[1], tripoints3d2[2], 'b.')\n",
    "ax.plot([0], [0], [0], 'g.')\n",
    "ax.plot(-P2[0, 3], -P2[1, 3], -P2[2, 3], 'g.')\n",
    "ax.plot(-t2[0], -t2[1], -t2[2], 'g.')\n",
    "ax.set_xlabel('x axis')\n",
    "ax.set_ylabel('y axis')\n",
    "ax.set_zlabel('z axis')\n",
    "ax.view_init(elev=135, azim=90)\n",
    "plt.axis('square')\n",
    "ax.set_ylim([-1, 1])\n",
    "ax.set_xlim([-1, 1])\n",
    "ax.set_zlim([-1, 2])\n",
    "plt.show()\n"
   ]
  },
  {
   "attachments": {},
   "cell_type": "markdown",
   "metadata": {},
   "source": [
    "## Some more points"
   ]
  },
  {
   "cell_type": "code",
   "execution_count": 25,
   "metadata": {},
   "outputs": [],
   "source": [
    "paare3 = matchPoints(kp2, des2, kp3, des3)\n"
   ]
  },
  {
   "cell_type": "code",
   "execution_count": 26,
   "metadata": {},
   "outputs": [],
   "source": [
    "pts2_3 = kp2[paare3[:, 0]].T\n",
    "pts3_2 = kp3[paare3[:, 1]].T\n",
    "points2_3 = processor.cart2hom(pts2_3)\n",
    "points3_2 = processor.cart2hom(pts3_2)\n",
    "points2_3n = np.dot(np.linalg.inv(intrinsic), points2_3)\n",
    "points3_2n = np.dot(np.linalg.inv(intrinsic), points3_2)\n"
   ]
  },
  {
   "cell_type": "code",
   "execution_count": 27,
   "metadata": {},
   "outputs": [
    {
     "name": "stderr",
     "output_type": "stream",
     "text": [
      "qt.qpa.wayland: Wayland does not support QWindow::requestActivate()\n"
     ]
    }
   ],
   "source": [
    "fig, ax = plt.subplots(1, 3)\n",
    "ax[0].autoscale_view('tight')\n",
    "ax[0].imshow(cv2.cvtColor(img1, cv2.COLOR_BGR2RGB))\n",
    "ax[0].plot(points1[0], points1[1], 'r.')\n",
    "ax[1].autoscale_view('tight')\n",
    "ax[1].imshow(cv2.cvtColor(img2, cv2.COLOR_BGR2RGB))\n",
    "ax[1].plot(points2[0], points2[1], 'r.')\n",
    "ax[2].autoscale_view('tight')\n",
    "ax[2].imshow(cv2.cvtColor(img3, cv2.COLOR_BGR2RGB))\n",
    "ax[2].plot(kp3[paare2[:, 1], 0], kp3[paare2[:, 1], 1], 'r.')\n",
    "ax[1].plot(points2_3[0], points2_3[1], 'b.')\n",
    "ax[2].plot(points3_2[0], points3_2[1], 'b.')\n",
    "fig.show()\n"
   ]
  },
  {
   "cell_type": "code",
   "execution_count": 28,
   "metadata": {},
   "outputs": [
    {
     "data": {
      "text/plain": [
       "(4, 1653)"
      ]
     },
     "execution_count": 28,
     "metadata": {},
     "output_type": "execute_result"
    }
   ],
   "source": [
    "tripoints3d2 = structure.linear_triangulation(\n",
    "    points2_3n, points3_2n, P2, P3)\n",
    "tripoints3d2.shape"
   ]
  },
  {
   "cell_type": "code",
   "execution_count": 29,
   "metadata": {},
   "outputs": [
    {
     "name": "stderr",
     "output_type": "stream",
     "text": [
      "qt.qpa.wayland: Wayland does not support QWindow::requestActivate()\n"
     ]
    }
   ],
   "source": [
    "%matplotlib qt\n",
    "fig = plt.figure()\n",
    "fig.suptitle('3D reconstructed', fontsize=16)\n",
    "ax = fig.add_subplot(projection='3d')\n",
    "ax.plot(tripoints3d[0], tripoints3d[1], tripoints3d[2], 'r.')\n",
    "ax.plot(tripoints3d2[0], tripoints3d2[1], tripoints3d2[2], 'b.')\n",
    "ax.plot([0], [0], [0], 'g.')\n",
    "ax.plot(-P2[0, 3], -P2[1, 3], -P2[2, 3], 'g.')\n",
    "ax.plot(-t2[0], -t2[1], -t2[2], 'g.')\n",
    "ax.set_xlabel('x axis')\n",
    "ax.set_ylabel('y axis')\n",
    "ax.set_zlabel('z axis')\n",
    "ax.view_init(elev=135, azim=90)\n",
    "plt.axis('square')\n",
    "ax.set_ylim([-1, 1])\n",
    "ax.set_xlim([-1, 1])\n",
    "ax.set_zlim([-1, 2])\n",
    "plt.show()\n"
   ]
  },
  {
   "cell_type": "code",
   "execution_count": 30,
   "metadata": {},
   "outputs": [],
   "source": [
    "img4 = cv2.imread('../eigenerAnsatz/bildverband2/DJI_0286.JPG')\n",
    "kp4, des4 = sift.detectAndCompute(\n",
    "    cv2.cvtColor(img4, cv2.COLOR_BGR2GRAY), None)\n",
    "kp4 = np.array([n.pt for n in kp4])\n",
    "\n",
    "paare4 = matchPoints(kp3, des3, kp4, des4)"
   ]
  },
  {
   "cell_type": "code",
   "execution_count": 31,
   "metadata": {},
   "outputs": [],
   "source": [
    "\n",
    "pts3_4 = kp3[paare4[:, 0]].T\n",
    "pts4_3 = kp4[paare4[:, 1]].T\n",
    "points3_4 = processor.cart2hom(pts3_4)\n",
    "points4_3 = processor.cart2hom(pts4_3)\n",
    "points3_4n = np.dot(np.linalg.inv(intrinsic), points3_4)\n",
    "points4_3n = np.dot(np.linalg.inv(intrinsic), points4_3)\n"
   ]
  },
  {
   "cell_type": "code",
   "execution_count": 32,
   "metadata": {},
   "outputs": [
    {
     "name": "stderr",
     "output_type": "stream",
     "text": [
      "qt.qpa.wayland: Wayland does not support QWindow::requestActivate()\n"
     ]
    }
   ],
   "source": [
    "fig, ax = plt.subplots(1, 2)\n",
    "ax[0].autoscale_view('tight')\n",
    "ax[0].imshow(cv2.cvtColor(img3, cv2.COLOR_BGR2RGB))\n",
    "ax[0].plot(points3_4[0], points3_4[1], 'r.')\n",
    "ax[1].autoscale_view('tight')\n",
    "ax[1].imshow(cv2.cvtColor(img4, cv2.COLOR_BGR2RGB))\n",
    "ax[1].plot(points4_3[0], points4_3[1], 'r.')\n",
    "fig.show()\n"
   ]
  },
  {
   "attachments": {},
   "cell_type": "markdown",
   "metadata": {},
   "source": [
    "## Bundle Adjustment"
   ]
  },
  {
   "cell_type": "code",
   "execution_count": 130,
   "metadata": {},
   "outputs": [],
   "source": [
    "from scipy.optimize import least_squares\n",
    "from scipy.sparse import lil_matrix"
   ]
  },
  {
   "cell_type": "code",
   "execution_count": 34,
   "metadata": {},
   "outputs": [],
   "source": [
    "r1,_ = cv2.Rodrigues(np.float32(P1[:3, :3]))\n",
    "t1 = P1[:,3]\n",
    "r2, _ = cv2.Rodrigues(np.float32(P2[:3, :3]))\n",
    "t2 = P2[:, 3]\n",
    "r3, _ = cv2.Rodrigues(np.float32(P3[:3, :3]))\n",
    "t3 = P3[:, 3]\n",
    "fx = intrinsic[0,0]\n",
    "fy = intrinsic[1,1]\n",
    "cx = intrinsic[0,2]\n",
    "cy = intrinsic[1,2]"
   ]
  },
  {
   "cell_type": "code",
   "execution_count": 188,
   "metadata": {},
   "outputs": [
    {
     "data": {
      "text/plain": [
       "(4, 3718)"
      ]
     },
     "execution_count": 188,
     "metadata": {},
     "output_type": "execute_result"
    }
   ],
   "source": [
    "tripoints3d.shape"
   ]
  },
  {
   "cell_type": "code",
   "execution_count": 176,
   "metadata": {},
   "outputs": [],
   "source": [
    "x0 = np.hstack((fx,fy,cx,cy,r1.ravel(),t1.ravel(),r2.ravel(),t2.ravel(),r3.ravel(),t3.ravel(),tripoints3d[:3,:].T.ravel()))"
   ]
  },
  {
   "cell_type": "code",
   "execution_count": 178,
   "metadata": {},
   "outputs": [],
   "source": [
    "l = np.hstack((pts1.T.ravel(),pts2.T.ravel(),pts3.T.ravel()))"
   ]
  },
  {
   "cell_type": "code",
   "execution_count": 192,
   "metadata": {},
   "outputs": [
    {
     "data": {
      "text/plain": [
       "(651, 2)"
      ]
     },
     "execution_count": 192,
     "metadata": {},
     "output_type": "execute_result"
    }
   ],
   "source": [
    "pts3.T.shape"
   ]
  },
  {
   "cell_type": "code",
   "execution_count": 194,
   "metadata": {},
   "outputs": [
    {
     "data": {
      "text/plain": [
       "16174"
      ]
     },
     "execution_count": 194,
     "metadata": {},
     "output_type": "execute_result"
    }
   ],
   "source": [
    "(3718*2+651)*2"
   ]
  },
  {
   "cell_type": "code",
   "execution_count": 180,
   "metadata": {},
   "outputs": [],
   "source": [
    "def project(x0):\n",
    "    fx = x0[0]\n",
    "    fy = x0[1]\n",
    "    cx = x0[2]\n",
    "    cy = x0[3]\n",
    "    \n",
    "    K = np.array([[fx,0,cx],[0,fy,cy],[0,0,1]])\n",
    "\n",
    "    r1 = x0[4:7]\n",
    "    t1 = x0[7:10]\n",
    "    r2 = x0[10:13]\n",
    "    t2 = x0[13:16]\n",
    "    r3 = x0[16:19]\n",
    "    t3 = x0[19:22]\n",
    "\n",
    "    coords = x0[22:]\n",
    "    coords = coords.reshape(len(coords)//3,3)\n",
    "\n",
    "    p1,_ = cv2.projectPoints(coords, r1,t1,K,None)\n",
    "    p2, _ = cv2.projectPoints(coords, r2, t2, K, None)\n",
    "    p3, _ = cv2.projectPoints(coords[paare2[:, 0]], r3, t3, K, None)\n",
    "\n",
    "    p = np.hstack((p1.ravel(),p2.ravel(),p3.ravel()))\n",
    "    return p-l\n"
   ]
  },
  {
   "cell_type": "code",
   "execution_count": 203,
   "metadata": {},
   "outputs": [
    {
     "name": "stdout",
     "output_type": "stream",
     "text": [
      "(16174, 11176)\n",
      "11176\n",
      "16173\n"
     ]
    }
   ],
   "source": [
    "A = lil_matrix((len(l), len(x0)), dtype=int)\n",
    "print(A.shape)\n",
    "A[:, :4] = 1\n",
    "n1 = len(pts1.T)\n",
    "n3 = len(paare2[:, 0])\n",
    "for i in range(n1):\n",
    "    A[2*i:2*i+2, 4:10] = 1\n",
    "    A[2*i:2*i+2, 22+i*3:25+i*3] = 1\n",
    "\n",
    "maxy = 0\n",
    "for i in range(n1):\n",
    "    A[2*(n1+i):2*(n1+i)+2, 10:16] = 1\n",
    "    A[2*(n1+i):2*(n1+i)+2, 22+i*3:25+i*3] = 1\n",
    "    maxy = 25+i*3\n",
    "print(maxy)\n",
    "\n",
    "max = 0\n",
    "for i in range(n3):\n",
    "    v = n1 + n1\n",
    "    A[2*(v+i):2*(v+i)+2, 16:22] = 1\n",
    "    z = paare2[i, 0]\n",
    "    A[2*(v+i):2*(v+i)+2, 22+z*3:25+z*3] = 1\n",
    "    max = 2*(v+i)+1\n",
    "print(max)\n"
   ]
  },
  {
   "cell_type": "code",
   "execution_count": 209,
   "metadata": {},
   "outputs": [
    {
     "data": {
      "text/plain": [
       "[array([1, 1, 1, 1, 1, 1, 1, 1, 1, 1, 0, 0, 0, 0, 0, 0, 0, 0, 0, 0, 0, 0,\n",
       "        1, 1, 1, 0, 0, 0, 0, 0]),\n",
       " array([1, 1, 1, 1, 1, 1, 1, 1, 1, 1, 0, 0, 0, 0, 0, 0, 0, 0, 0, 0, 0, 0,\n",
       "        1, 1, 1, 0, 0, 0, 0, 0]),\n",
       " array([1, 1, 1, 1, 1, 1, 1, 1, 1, 1, 0, 0, 0, 0, 0, 0, 0, 0, 0, 0, 0, 0,\n",
       "        0, 0, 0, 1, 1, 1, 0, 0]),\n",
       " array([1, 1, 1, 1, 1, 1, 1, 1, 1, 1, 0, 0, 0, 0, 0, 0, 0, 0, 0, 0, 0, 0,\n",
       "        0, 0, 0, 1, 1, 1, 0, 0]),\n",
       " array([1, 1, 1, 1, 1, 1, 1, 1, 1, 1, 0, 0, 0, 0, 0, 0, 0, 0, 0, 0, 0, 0,\n",
       "        0, 0, 0, 0, 0, 0, 1, 1])]"
      ]
     },
     "execution_count": 209,
     "metadata": {},
     "output_type": "execute_result"
    }
   ],
   "source": [
    "\n",
    "list(A.toarray()[:5,:30])"
   ]
  },
  {
   "cell_type": "code",
   "execution_count": 216,
   "metadata": {},
   "outputs": [
    {
     "name": "stdout",
     "output_type": "stream",
     "text": [
      "   Iteration     Total nfev        Cost      Cost reduction    Step norm     Optimality   \n",
      "       0              1         5.2834e+05                                    3.82e+07    \n",
      "       1              2         3.6074e+05      1.68e+05       8.32e+01       9.79e+06    \n",
      "       2              3         2.4338e+05      1.17e+05       3.96e+01       1.79e+07    \n",
      "       3              4         1.3875e+05      1.05e+05       1.14e+01       5.03e+07    \n",
      "       4              5         6.1956e+04      7.68e+04       2.47e+01       1.14e+07    \n",
      "       5              6         4.9780e+04      1.22e+04       2.48e+01       3.13e+06    \n",
      "       6              7         3.6370e+04      1.34e+04       2.71e+01       4.75e+05    \n",
      "       7             10         3.5979e+04      3.91e+02       2.24e+00       1.15e+06    \n",
      "       8             11         3.4479e+04      1.50e+03       1.02e+01       3.23e+05    \n",
      "       9             12         3.4303e+04      1.76e+02       6.72e+00       1.46e+06    \n",
      "      10             14         3.4202e+04      1.01e+02       6.51e-01       1.46e+05    \n",
      "      11             15         3.4145e+04      5.78e+01       8.31e-01       7.90e+05    \n",
      "      12             17         3.4107e+04      3.75e+01       3.77e-01       4.05e+05    \n",
      "      13             19         3.4093e+04      1.41e+01       2.65e-01       3.24e+05    \n",
      "`ftol` termination condition is satisfied.\n",
      "Function evaluations 19, initial cost 5.2834e+05, final cost 3.4093e+04, first-order optimality 3.24e+05.\n"
     ]
    }
   ],
   "source": [
    "res = least_squares(project, x0, jac_sparsity=A, verbose=2,\n",
    "                    x_scale='jac', method='trf', ftol=1e-3)\n"
   ]
  },
  {
   "cell_type": "code",
   "execution_count": 221,
   "metadata": {},
   "outputs": [
    {
     "data": {
      "text/plain": [
       "array([[3.01410725e+03, 0.00000000e+00, 1.98401799e+03],\n",
       "       [0.00000000e+00, 3.12279416e+03, 1.52288083e+03],\n",
       "       [0.00000000e+00, 0.00000000e+00, 1.00000000e+00]])"
      ]
     },
     "execution_count": 221,
     "metadata": {},
     "output_type": "execute_result"
    }
   ],
   "source": [
    "fx = res.x[0]\n",
    "fy = res.x[1]\n",
    "cx = res.x[2]\n",
    "cy = res.x[3]\n",
    "\n",
    "K = np.array([[fx, 0, cx], [0, fy, cy], [0, 0, 1]])\n",
    "K"
   ]
  },
  {
   "cell_type": "code",
   "execution_count": 222,
   "metadata": {},
   "outputs": [
    {
     "data": {
      "text/plain": [
       "array([[3.03065e+03, 0.00000e+00, 1.99400e+03],\n",
       "       [0.00000e+00, 3.03065e+03, 1.51700e+03],\n",
       "       [0.00000e+00, 0.00000e+00, 1.00000e+00]])"
      ]
     },
     "execution_count": 222,
     "metadata": {},
     "output_type": "execute_result"
    }
   ],
   "source": [
    "intrinsic"
   ]
  },
  {
   "cell_type": "code",
   "execution_count": 219,
   "metadata": {},
   "outputs": [
    {
     "data": {
      "text/plain": [
       "array([-0.01447455,  0.15881271,  0.00168593, ...,  0.41019293,\n",
       "        0.20103729,  0.07919818])"
      ]
     },
     "execution_count": 219,
     "metadata": {},
     "output_type": "execute_result"
    }
   ],
   "source": [
    "project(res.x)"
   ]
  },
  {
   "cell_type": "code",
   "execution_count": 224,
   "metadata": {},
   "outputs": [
    {
     "data": {
      "text/plain": [
       "array([ 0.12965523, -8.40143123, -0.82013417, ...,  2.6961788 ,\n",
       "        0.60731602, -0.56348183])"
      ]
     },
     "execution_count": 224,
     "metadata": {},
     "output_type": "execute_result"
    }
   ],
   "source": [
    "project(x0)\n"
   ]
  },
  {
   "cell_type": "code",
   "execution_count": 236,
   "metadata": {},
   "outputs": [
    {
     "data": {
      "text/plain": [
       "array([-0.03815566,  0.02402933, -0.15801609])"
      ]
     },
     "execution_count": 236,
     "metadata": {},
     "output_type": "execute_result"
    }
   ],
   "source": [
    "coords_new = res.x[22:]\n",
    "coords_new = coords_new.reshape(len(coords_new)//3,3)\n",
    "\n",
    "t1 = res.x[7:10]\n",
    "t2 = res.x[13:16]\n",
    "t3 = res.x[19:22]\n",
    "t1"
   ]
  },
  {
   "cell_type": "code",
   "execution_count": 232,
   "metadata": {},
   "outputs": [
    {
     "data": {
      "text/plain": [
       "array([[-1.00553646, -1.01953347, -1.00409616, ...,  0.87509442,\n",
       "         0.89586751,  0.86850577],\n",
       "       [-0.42699544, -0.27009344, -0.40814642, ..., -0.03954603,\n",
       "         0.23656618, -0.1444281 ],\n",
       "       [ 1.53287928,  1.5548741 ,  1.53279683, ...,  1.33156662,\n",
       "         1.3647532 ,  1.31957639]])"
      ]
     },
     "execution_count": 232,
     "metadata": {},
     "output_type": "execute_result"
    }
   ],
   "source": [
    "coords_new.T"
   ]
  },
  {
   "cell_type": "code",
   "execution_count": 237,
   "metadata": {},
   "outputs": [
    {
     "name": "stderr",
     "output_type": "stream",
     "text": [
      "qt.qpa.wayland: Wayland does not support QWindow::requestActivate()\n"
     ]
    }
   ],
   "source": [
    "%matplotlib qt\n",
    "fig = plt.figure()\n",
    "fig.suptitle('3D reconstructed', fontsize=16)\n",
    "ax = fig.add_subplot(projection='3d')\n",
    "ax.plot(coords_new.T[0], coords_new.T[1], coords_new.T[2], 'r.')\n",
    "ax.plot(-t1[0], -t1[1], -t1[2], 'g.')\n",
    "ax.plot(-t2[0], -t2[1], -t2[2], 'g.')\n",
    "ax.plot(-t3[0], -t3[1], -t3[2], 'g.')\n",
    "ax.set_xlabel('x axis')\n",
    "ax.set_ylabel('y axis')\n",
    "ax.set_zlabel('z axis')\n",
    "ax.view_init(elev=135, azim=90)\n",
    "plt.axis('square')\n",
    "ax.set_ylim([-1, 2])\n",
    "ax.set_xlim([-1, 2])\n",
    "ax.set_zlim([-1, 2])\n",
    "plt.show()\n"
   ]
  }
 ],
 "metadata": {
  "kernelspec": {
   "display_name": "Python 3",
   "language": "python",
   "name": "python3"
  },
  "language_info": {
   "codemirror_mode": {
    "name": "ipython",
    "version": 3
   },
   "file_extension": ".py",
   "mimetype": "text/x-python",
   "name": "python",
   "nbconvert_exporter": "python",
   "pygments_lexer": "ipython3",
   "version": "3.10.7"
  },
  "orig_nbformat": 4,
  "vscode": {
   "interpreter": {
    "hash": "e7370f93d1d0cde622a1f8e1c04877d8463912d04d973331ad4851f04de6915a"
   }
  }
 },
 "nbformat": 4,
 "nbformat_minor": 2
}
