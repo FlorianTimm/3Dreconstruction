{
 "cells": [
  {
   "cell_type": "code",
   "execution_count": 79,
   "metadata": {},
   "outputs": [],
   "source": [
    "import matplotlib.pyplot as plt\n",
    "from mpl_toolkits.mplot3d import Axes3D\n",
    "import numpy as np\n",
    "import cv2\n",
    "\n",
    "from camera import Camera\n",
    "import structure\n",
    "import processor\n",
    "import features"
   ]
  },
  {
   "cell_type": "code",
   "execution_count": 80,
   "metadata": {},
   "outputs": [
    {
     "name": "stdout",
     "output_type": "stream",
     "text": [
      "Bilder geladen\n"
     ]
    }
   ],
   "source": [
    "img1 = cv2.imread('../eigenerAnsatz/bildverband2/DJI_0289.JPG')\n",
    "img2 = cv2.imread('../eigenerAnsatz/bildverband2/DJI_0288.JPG')\n",
    "img3 = cv2.imread('../eigenerAnsatz/bildverband2/DJI_0287.JPG')\n",
    "print(\"Bilder geladen\")"
   ]
  },
  {
   "cell_type": "code",
   "execution_count": 81,
   "metadata": {},
   "outputs": [],
   "source": [
    "sift = cv2.SIFT_create()\n",
    "\n",
    "# find the keypoints and descriptors with SIFT\n",
    "kp1, des1 = sift.detectAndCompute(\n",
    "    cv2.cvtColor(img1, cv2.COLOR_BGR2GRAY), None)\n",
    "kp2, des2 = sift.detectAndCompute(\n",
    "    cv2.cvtColor(img2, cv2.COLOR_BGR2GRAY), None)\n",
    "kp3, des3 = sift.detectAndCompute(\n",
    "    cv2.cvtColor(img3, cv2.COLOR_BGR2GRAY), None)\n",
    "\n",
    "kp1 = np.array([n.pt for n in kp1])\n",
    "kp2 = np.array([n.pt for n in kp2])\n",
    "kp3 = np.array([n.pt for n in kp3])\n"
   ]
  },
  {
   "cell_type": "code",
   "execution_count": 82,
   "metadata": {},
   "outputs": [],
   "source": [
    "def matchPoints(kp1,des1,kp2,des2):\n",
    "    # Find point matches\n",
    "    FLANN_INDEX_KDTREE = 1\n",
    "    index_params = dict(algorithm=FLANN_INDEX_KDTREE, trees=5)\n",
    "    search_params = dict(checks=100)\n",
    "    flann = cv2.FlannBasedMatcher(index_params, search_params)\n",
    "    matches = flann.knnMatch(des1, des2, k=2)\n",
    "\n",
    "    # Apply Lowe's SIFT matching ratio test\n",
    "    good = []\n",
    "    for m, n in matches:\n",
    "        if m.distance < 0.8 * n.distance:\n",
    "            good.append(m)\n",
    "\n",
    "    paare = np.array([[m.queryIdx, m.trainIdx] for m in good])\n",
    "    \n",
    "    # Constrain matches to fit homography\n",
    "    retval, mask = cv2.findHomography(\n",
    "        kp1[paare[:, 0]], kp2[paare[:, 1]], cv2.RANSAC, 100.0)\n",
    "    mask = mask.ravel()\n",
    "\n",
    "    # We select only inlier points\n",
    "    paare = paare[mask == 1]\n",
    "    return paare"
   ]
  },
  {
   "cell_type": "code",
   "execution_count": 83,
   "metadata": {},
   "outputs": [],
   "source": [
    "paare = matchPoints(kp1, des1, kp2, des2)\n",
    "paare2 = matchPoints(kp2[paare[:, 1]], des2[paare[:, 1]], kp3, des3)\n"
   ]
  },
  {
   "cell_type": "code",
   "execution_count": 84,
   "metadata": {},
   "outputs": [],
   "source": [
    "pts1 = kp1[paare[:,0]].T\n",
    "pts2 = kp2[paare[:,1]].T\n",
    "pts3 = kp3[paare2[:,1]].T"
   ]
  },
  {
   "cell_type": "code",
   "execution_count": 85,
   "metadata": {},
   "outputs": [],
   "source": [
    "points1 = processor.cart2hom(pts1)\n",
    "points2 = processor.cart2hom(pts2)\n",
    "points3 = processor.cart2hom(pts3)\n"
   ]
  },
  {
   "cell_type": "code",
   "execution_count": 130,
   "metadata": {},
   "outputs": [
    {
     "name": "stderr",
     "output_type": "stream",
     "text": [
      "qt.qpa.wayland: Wayland does not support QWindow::requestActivate()\n"
     ]
    }
   ],
   "source": [
    "fig, ax = plt.subplots(1, 3)\n",
    "ax[0].autoscale_view('tight')\n",
    "ax[0].imshow(cv2.cvtColor(img1, cv2.COLOR_BGR2RGB))\n",
    "ax[0].plot(points1[0], points1[1], 'r.')\n",
    "ax[1].autoscale_view('tight')\n",
    "ax[1].imshow(cv2.cvtColor(img2, cv2.COLOR_BGR2RGB))\n",
    "ax[1].plot(points2[0], points2[1], 'r.')\n",
    "ax[2].autoscale_view('tight')\n",
    "ax[2].imshow(cv2.cvtColor(img3, cv2.COLOR_BGR2RGB))\n",
    "ax[2].plot(kp3[paare2[:, 1], 0], kp3[paare2[:, 1], 1], 'r.')\n",
    "fig.show()"
   ]
  },
  {
   "cell_type": "code",
   "execution_count": 87,
   "metadata": {},
   "outputs": [
    {
     "data": {
      "text/plain": [
       "array([[3.03065e+03, 0.00000e+00, 1.99400e+03],\n",
       "       [0.00000e+00, 3.03065e+03, 1.51700e+03],\n",
       "       [0.00000e+00, 0.00000e+00, 1.00000e+00]])"
      ]
     },
     "execution_count": 87,
     "metadata": {},
     "output_type": "execute_result"
    }
   ],
   "source": [
    "height, width, ch = img1.shape\n",
    "intrinsic = np.array([  # for dino\n",
    "    [3030.65, 0, width / 2-6],\n",
    "    [0, 3030.65, height / 2+17],\n",
    "    [0, 0, 1]])\n",
    "intrinsic"
   ]
  },
  {
   "cell_type": "code",
   "execution_count": 88,
   "metadata": {},
   "outputs": [],
   "source": [
    "def scale_and_translate_points(points):\n",
    "    \"\"\" Scale and translate image points so that centroid of the points\n",
    "        are at the origin and avg distance to the origin is equal to sqrt(2).\n",
    "    :param points: array of homogenous point (3 x n)\n",
    "    :returns: array of same input shape and its normalization matrix\n",
    "    \"\"\"\n",
    "    x = points[0]\n",
    "    y = points[1]\n",
    "    center = points.mean(axis=1)  # mean of each row\n",
    "    cx = x - center[0]  # center the points\n",
    "    cy = y - center[1]\n",
    "    dist = np.sqrt(np.power(cx, 2) + np.power(cy, 2))\n",
    "    scale = np.sqrt(2) / dist.mean()\n",
    "    norm3d = np.array([\n",
    "        [scale, 0, -scale * center[0]],\n",
    "        [0, scale, -scale * center[1]],\n",
    "        [0, 0, 1]\n",
    "    ])\n",
    "\n",
    "    return np.dot(norm3d, points), norm3d\n"
   ]
  },
  {
   "cell_type": "code",
   "execution_count": 89,
   "metadata": {},
   "outputs": [],
   "source": [
    "def correspondence_matrix(p1, p2):\n",
    "    \"\"\"Each row in the A matrix below is constructed as\n",
    "        [x'*x, x'*y, x', y'*x, y'*y, y', x, y, 1]\"\"\"\n",
    "    p1x, p1y = p1[:2]\n",
    "    p2x, p2y = p2[:2]\n",
    "\n",
    "    return np.array([\n",
    "        p1x * p2x, p1x * p2y, p1x,\n",
    "        p1y * p2x, p1y * p2y, p1y,\n",
    "        p2x, p2y, np.ones(len(p1x))\n",
    "    ]).T\n"
   ]
  },
  {
   "cell_type": "code",
   "execution_count": 90,
   "metadata": {},
   "outputs": [],
   "source": [
    "def compute_essential_normalized(p1, p2):\n",
    "    \"\"\" Computes the fundamental or essential matrix from corresponding points\n",
    "        using the normalized 8 point algorithm.\n",
    "    :input p1, p2: corresponding points with shape 3 x n\n",
    "    :returns: fundamental or essential matrix with shape 3 x 3\n",
    "    \"\"\"\n",
    "    n = p1.shape[1]\n",
    "    if p2.shape[1] != n:\n",
    "        raise ValueError('Number of points do not match.')\n",
    "\n",
    "    # preprocess image coordinates\n",
    "    p1n, T1 = scale_and_translate_points(p1)\n",
    "    p2n, T2 = scale_and_translate_points(p2)\n",
    "\n",
    "    # compute F or E with the coordinates\n",
    "    A = correspondence_matrix(p1n, p2n)\n",
    "    # compute linear least square solution\n",
    "    U, S, V = np.linalg.svd(A)\n",
    "    F = V[-1].reshape(3, 3)\n",
    "\n",
    "    # constrain F. Make rank 2 by zeroing out last singular value\n",
    "    U, S, V = np.linalg.svd(F)\n",
    "    S[-1] = 0\n",
    "    S = [1, 1, 0]  # Force rank 2 and equal eigenvalues\n",
    "    F = U @ np.diag(S) @ V\n",
    "\n",
    "    # reverse preprocessing of coordinates\n",
    "    # We know that P1' E P2 = 0\n",
    "    F = T1.T@F@T2\n",
    "\n",
    "    return F / F[2, 2]\n"
   ]
  },
  {
   "cell_type": "code",
   "execution_count": 91,
   "metadata": {},
   "outputs": [],
   "source": [
    "# Calculate essential matrix with 2d points.\n",
    "# Result will be up to a scale\n",
    "# First, normalize points\n",
    "points1n = np.dot(np.linalg.inv(intrinsic), points1)\n",
    "points2n = np.dot(np.linalg.inv(intrinsic), points2)\n",
    "#cv2.undistortPoints(pts1, intrinsic, None)[:,0,:].T"
   ]
  },
  {
   "cell_type": "code",
   "execution_count": 92,
   "metadata": {},
   "outputs": [
    {
     "name": "stdout",
     "output_type": "stream",
     "text": [
      "Computed essential matrix: [[-0.03042558 -1.         -0.21811249]\n",
      " [ 0.95929048 -0.01430969 -0.00848929]\n",
      " [ 0.23792829  0.21658999  0.04594701]]\n"
     ]
    }
   ],
   "source": [
    "E = compute_essential_normalized(points1n, points2n)\n",
    "#E1 = structure.compute_essential_normalized(points1n, points2an)\n",
    "print('Computed essential matrix:', (-E / E[0][1]))\n"
   ]
  },
  {
   "cell_type": "code",
   "execution_count": 93,
   "metadata": {},
   "outputs": [
    {
     "data": {
      "text/plain": [
       "array([[1, 0, 0, 0],\n",
       "       [0, 1, 0, 0],\n",
       "       [0, 0, 1, 0]])"
      ]
     },
     "execution_count": 93,
     "metadata": {},
     "output_type": "execute_result"
    }
   ],
   "source": [
    "P1 = np.array([[1, 0, 0, 0], [0, 1, 0, 0], [0, 0, 1, 0]])\n",
    "P1"
   ]
  },
  {
   "cell_type": "code",
   "execution_count": 94,
   "metadata": {},
   "outputs": [
    {
     "data": {
      "text/plain": [
       "array([[ 0.97900216,  0.04517705, -0.19878081,  0.00546468],\n",
       "       [-0.04092636,  0.99883817,  0.02544292, -0.21325795],\n",
       "       [ 0.19969929, -0.0167733 ,  0.97971366,  0.97698065]])"
      ]
     },
     "execution_count": 94,
     "metadata": {},
     "output_type": "execute_result"
    }
   ],
   "source": [
    "_,R,t,_= cv2.recoverPose(E,pts1.T,pts2.T, intrinsic)\n",
    "R = np.linalg.inv(R)\n",
    "t = -R@t\n",
    "P2 = np.c_[R,t]\n",
    "P2\n"
   ]
  },
  {
   "cell_type": "code",
   "execution_count": 95,
   "metadata": {},
   "outputs": [],
   "source": [
    "#tripoints3d = structure.reconstruct_points(points1n, points2n, P1, P2)\n",
    "tripoints3d = structure.linear_triangulation(\n",
    "    points1n, points2n, P1, P2)\n"
   ]
  },
  {
   "cell_type": "code",
   "execution_count": 96,
   "metadata": {},
   "outputs": [
    {
     "name": "stderr",
     "output_type": "stream",
     "text": [
      "qt.qpa.wayland: Wayland does not support QWindow::requestActivate()\n"
     ]
    }
   ],
   "source": [
    "%matplotlib qt\n",
    "fig = plt.figure()\n",
    "fig.suptitle('3D reconstructed', fontsize=16)\n",
    "ax = fig.add_subplot(projection='3d')\n",
    "ax.plot(tripoints3d[0], tripoints3d[1], tripoints3d[2], 'r.')\n",
    "ax.plot([0], [0], [0], 'g.')\n",
    "ax.plot(-P2[0, 3], -P2[1, 3], -P2[2, 3], 'g.')\n",
    "ax.set_xlabel('x axis')\n",
    "ax.set_ylabel('y axis')\n",
    "ax.set_zlabel('z axis')\n",
    "ax.view_init(elev=135, azim=90)\n",
    "#plt.axis('square')\n",
    "plt.show()"
   ]
  },
  {
   "cell_type": "code",
   "execution_count": 97,
   "metadata": {},
   "outputs": [
    {
     "data": {
      "text/plain": [
       "array([[-1.00985079, -0.2711323 ,  1.54914591,  1.        ],\n",
       "       [-0.97663302, -0.44814942,  1.51551669,  1.        ],\n",
       "       [-0.96977179, -0.49007449,  1.50927709,  1.        ],\n",
       "       ...,\n",
       "       [ 0.86850585, -0.14897178,  1.32013891,  1.        ],\n",
       "       [ 0.8762597 , -0.04041613,  1.33254353,  1.        ],\n",
       "       [ 0.86893804, -0.14532363,  1.31963021,  1.        ]])"
      ]
     },
     "execution_count": 97,
     "metadata": {},
     "output_type": "execute_result"
    }
   ],
   "source": [
    "tripoints3d[:,paare2[:,0]].T"
   ]
  },
  {
   "cell_type": "code",
   "execution_count": 98,
   "metadata": {},
   "outputs": [
    {
     "data": {
      "text/plain": [
       "(True,\n",
       " array([[0.24431999],\n",
       "        [0.27178257],\n",
       "        [0.04742149]]),\n",
       " array([[-0.936285  ],\n",
       "        [-0.20689775],\n",
       "        [ 0.88055136]]))"
      ]
     },
     "execution_count": 98,
     "metadata": {},
     "output_type": "execute_result"
    }
   ],
   "source": [
    "retval, r2,t2,_ = cv2.solvePnPRansac(tripoints3d[:3,paare2[:,0]].T, kp3[paare2[:,1]], intrinsic, None)\n",
    "retval, r2,t2"
   ]
  },
  {
   "cell_type": "code",
   "execution_count": 99,
   "metadata": {},
   "outputs": [
    {
     "data": {
      "text/plain": [
       "array([[ 0.96237148, -0.01352848,  0.2714003 , -0.936285  ],\n",
       "       [ 0.0791823 ,  0.96937839, -0.2324558 , -0.20689775],\n",
       "       [-0.25994481,  0.24519893,  0.93397333,  0.88055136]])"
      ]
     },
     "execution_count": 99,
     "metadata": {},
     "output_type": "execute_result"
    }
   ],
   "source": [
    "R2,_ = cv2.Rodrigues(r2)\n",
    "P3 = np.c_[R2,t2]\n",
    "P3"
   ]
  },
  {
   "cell_type": "code",
   "execution_count": 100,
   "metadata": {},
   "outputs": [
    {
     "data": {
      "text/plain": [
       "array([[-0.58855988, -0.59437814, -0.5953235 , ...,  0.13811134,\n",
       "         0.14129843,  0.13844267],\n",
       "       [-0.36082361, -0.43854992, -0.45736602, ..., -0.31761943,\n",
       "        -0.25845193, -0.31562222],\n",
       "       [ 1.        ,  1.        ,  1.        , ...,  1.        ,\n",
       "         1.        ,  1.        ]])"
      ]
     },
     "execution_count": 100,
     "metadata": {},
     "output_type": "execute_result"
    }
   ],
   "source": [
    "points3n = np.dot(np.linalg.inv(intrinsic), points3)\n",
    "points3n\n"
   ]
  },
  {
   "cell_type": "code",
   "execution_count": 127,
   "metadata": {},
   "outputs": [
    {
     "data": {
      "text/plain": [
       "(4, 613)"
      ]
     },
     "execution_count": 127,
     "metadata": {},
     "output_type": "execute_result"
    }
   ],
   "source": [
    "tripoints3d2 = structure.linear_triangulation(\n",
    "    points2n.T[paare2[:, 0]].T, points3n, P2, P3)\n",
    "tripoints3d2.shape"
   ]
  },
  {
   "cell_type": "code",
   "execution_count": 120,
   "metadata": {},
   "outputs": [
    {
     "name": "stderr",
     "output_type": "stream",
     "text": [
      "qt.qpa.wayland: Wayland does not support QWindow::requestActivate()\n"
     ]
    }
   ],
   "source": [
    "%matplotlib qt\n",
    "fig = plt.figure()\n",
    "fig.suptitle('3D reconstructed', fontsize=16)\n",
    "ax = fig.add_subplot(projection='3d')\n",
    "ax.plot(tripoints3d[0], tripoints3d[1], tripoints3d[2], 'r.')\n",
    "ax.plot(tripoints3d2[0], tripoints3d2[1], tripoints3d2[2], 'b.')\n",
    "ax.plot([0], [0], [0], 'g.')\n",
    "ax.plot(-P2[0, 3], -P2[1, 3], -P2[2, 3], 'g.')\n",
    "ax.plot(-t2[0], -t2[1], -t2[2], 'g.')\n",
    "ax.set_xlabel('x axis')\n",
    "ax.set_ylabel('y axis')\n",
    "ax.set_zlabel('z axis')\n",
    "ax.view_init(elev=135, azim=90)\n",
    "plt.axis('square')\n",
    "ax.set_ylim([-1, 1])\n",
    "ax.set_xlim([-1, 1])\n",
    "ax.set_zlim([-1, 2])\n",
    "plt.show()\n"
   ]
  },
  {
   "attachments": {},
   "cell_type": "markdown",
   "metadata": {},
   "source": [
    "## Some more points"
   ]
  },
  {
   "cell_type": "code",
   "execution_count": 128,
   "metadata": {},
   "outputs": [],
   "source": [
    "paare3 = matchPoints(kp2, des2, kp3, des3)\n"
   ]
  },
  {
   "cell_type": "code",
   "execution_count": 116,
   "metadata": {},
   "outputs": [],
   "source": [
    "pts2_3 = kp2[paare3[:, 0]].T\n",
    "pts3_2 = kp3[paare3[:, 1]].T\n",
    "points2_3 = processor.cart2hom(pts2_3)\n",
    "points3_2 = processor.cart2hom(pts3_2)\n",
    "points2_3n = np.dot(np.linalg.inv(intrinsic), points2_3)\n",
    "points3_2n = np.dot(np.linalg.inv(intrinsic), points3_2)\n"
   ]
  },
  {
   "cell_type": "code",
   "execution_count": 134,
   "metadata": {},
   "outputs": [
    {
     "name": "stderr",
     "output_type": "stream",
     "text": [
      "qt.qpa.wayland: Wayland does not support QWindow::requestActivate()\n"
     ]
    }
   ],
   "source": [
    "fig, ax = plt.subplots(1, 3)\n",
    "ax[0].autoscale_view('tight')\n",
    "ax[0].imshow(cv2.cvtColor(img1, cv2.COLOR_BGR2RGB))\n",
    "ax[0].plot(points1[0], points1[1], 'r.')\n",
    "ax[1].autoscale_view('tight')\n",
    "ax[1].imshow(cv2.cvtColor(img2, cv2.COLOR_BGR2RGB))\n",
    "ax[1].plot(points2[0], points2[1], 'r.')\n",
    "ax[2].autoscale_view('tight')\n",
    "ax[2].imshow(cv2.cvtColor(img3, cv2.COLOR_BGR2RGB))\n",
    "ax[2].plot(kp3[paare2[:, 1], 0], kp3[paare2[:, 1], 1], 'r.')\n",
    "ax[1].plot(points2_3[0], points2_3[1], 'b.')\n",
    "ax[2].plot(points3_2[0], points3_2[1], 'b.')\n",
    "fig.show()\n"
   ]
  },
  {
   "cell_type": "code",
   "execution_count": 126,
   "metadata": {},
   "outputs": [
    {
     "data": {
      "text/plain": [
       "(4, 1642)"
      ]
     },
     "execution_count": 126,
     "metadata": {},
     "output_type": "execute_result"
    }
   ],
   "source": [
    "tripoints3d2 = structure.linear_triangulation(\n",
    "    points2_3n, points3_2n, P2, P3)\n",
    "tripoints3d2.shape"
   ]
  },
  {
   "cell_type": "code",
   "execution_count": 131,
   "metadata": {},
   "outputs": [
    {
     "name": "stderr",
     "output_type": "stream",
     "text": [
      "qt.qpa.wayland: Wayland does not support QWindow::requestActivate()\n"
     ]
    }
   ],
   "source": [
    "%matplotlib qt\n",
    "fig = plt.figure()\n",
    "fig.suptitle('3D reconstructed', fontsize=16)\n",
    "ax = fig.add_subplot(projection='3d')\n",
    "ax.plot(tripoints3d[0], tripoints3d[1], tripoints3d[2], 'r.')\n",
    "ax.plot(tripoints3d2[0], tripoints3d2[1], tripoints3d2[2], 'b.')\n",
    "ax.plot([0], [0], [0], 'g.')\n",
    "ax.plot(-P2[0, 3], -P2[1, 3], -P2[2, 3], 'g.')\n",
    "ax.plot(-t2[0], -t2[1], -t2[2], 'g.')\n",
    "ax.set_xlabel('x axis')\n",
    "ax.set_ylabel('y axis')\n",
    "ax.set_zlabel('z axis')\n",
    "ax.view_init(elev=135, azim=90)\n",
    "plt.axis('square')\n",
    "ax.set_ylim([-1, 1])\n",
    "ax.set_xlim([-1, 1])\n",
    "ax.set_zlim([-1, 2])\n",
    "plt.show()\n"
   ]
  },
  {
   "cell_type": "code",
   "execution_count": 136,
   "metadata": {},
   "outputs": [],
   "source": [
    "img4 = cv2.imread('../eigenerAnsatz/bildverband2/DJI_0286.JPG')\n",
    "kp4, des4 = sift.detectAndCompute(\n",
    "    cv2.cvtColor(img4, cv2.COLOR_BGR2GRAY), None)\n",
    "kp4 = np.array([n.pt for n in kp4])\n",
    "\n",
    "paare4 = matchPoints(kp3, des3, kp4, des4)"
   ]
  },
  {
   "cell_type": "code",
   "execution_count": 137,
   "metadata": {},
   "outputs": [],
   "source": [
    "\n",
    "pts3_4 = kp3[paare4[:, 0]].T\n",
    "pts4_3 = kp4[paare4[:, 1]].T\n",
    "points3_4 = processor.cart2hom(pts3_4)\n",
    "points4_3 = processor.cart2hom(pts4_3)\n",
    "points3_4n = np.dot(np.linalg.inv(intrinsic), points3_4)\n",
    "points4_3n = np.dot(np.linalg.inv(intrinsic), points4_3)\n"
   ]
  },
  {
   "cell_type": "code",
   "execution_count": 138,
   "metadata": {},
   "outputs": [
    {
     "name": "stderr",
     "output_type": "stream",
     "text": [
      "qt.qpa.wayland: Wayland does not support QWindow::requestActivate()\n"
     ]
    }
   ],
   "source": [
    "fig, ax = plt.subplots(1, 2)\n",
    "ax[0].autoscale_view('tight')\n",
    "ax[0].imshow(cv2.cvtColor(img3, cv2.COLOR_BGR2RGB))\n",
    "ax[0].plot(points3_4[0], points3_4[1], 'r.')\n",
    "ax[1].autoscale_view('tight')\n",
    "ax[1].imshow(cv2.cvtColor(img4, cv2.COLOR_BGR2RGB))\n",
    "ax[1].plot(points4_3[0], points4_3[1], 'r.')\n",
    "fig.show()\n"
   ]
  }
 ],
 "metadata": {
  "kernelspec": {
   "display_name": "Python 3",
   "language": "python",
   "name": "python3"
  },
  "language_info": {
   "codemirror_mode": {
    "name": "ipython",
    "version": 3
   },
   "file_extension": ".py",
   "mimetype": "text/x-python",
   "name": "python",
   "nbconvert_exporter": "python",
   "pygments_lexer": "ipython3",
   "version": "3.10.7"
  },
  "orig_nbformat": 4,
  "vscode": {
   "interpreter": {
    "hash": "e7370f93d1d0cde622a1f8e1c04877d8463912d04d973331ad4851f04de6915a"
   }
  }
 },
 "nbformat": 4,
 "nbformat_minor": 2
}
