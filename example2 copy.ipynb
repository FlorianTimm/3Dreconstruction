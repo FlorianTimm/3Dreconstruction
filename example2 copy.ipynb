{
 "cells": [
  {
   "cell_type": "code",
   "execution_count": 1,
   "metadata": {},
   "outputs": [],
   "source": [
    "import matplotlib.pyplot as plt\n",
    "from mpl_toolkits.mplot3d import Axes3D\n",
    "import numpy as np\n",
    "import cv2\n",
    "\n",
    "from camera import Camera\n",
    "import structure\n",
    "import processor\n",
    "import features"
   ]
  },
  {
   "cell_type": "code",
   "execution_count": 4,
   "metadata": {},
   "outputs": [
    {
     "name": "stdout",
     "output_type": "stream",
     "text": [
      "Bilder geladen\n"
     ]
    }
   ],
   "source": [
    "img1 = cv2.imread('../eigenerAnsatz/example_data/bildverband2/DJI_0287.JPG')\n",
    "img2 = cv2.imread('../eigenerAnsatz/example_data/bildverband2/DJI_0286.JPG')\n",
    "print(\"Bilder geladen\")"
   ]
  },
  {
   "cell_type": "code",
   "execution_count": 5,
   "metadata": {},
   "outputs": [],
   "source": [
    "sift = cv2.SIFT_create()\n",
    "\n",
    "# find the keypoints and descriptors with SIFT\n",
    "kp1, des1 = sift.detectAndCompute(\n",
    "    cv2.cvtColor(img1, cv2.COLOR_BGR2GRAY), None)\n",
    "kp2, des2 = sift.detectAndCompute(\n",
    "    cv2.cvtColor(img2, cv2.COLOR_BGR2GRAY), None)\n",
    "\n",
    "kp1 = np.array([n.pt for n in kp1])\n",
    "kp2 = np.array([n.pt for n in kp2])\n"
   ]
  },
  {
   "cell_type": "code",
   "execution_count": 6,
   "metadata": {},
   "outputs": [],
   "source": [
    "def matchPoints(kp1,des1,kp2,des2):\n",
    "    # Find point matches\n",
    "    FLANN_INDEX_KDTREE = 1\n",
    "    index_params = dict(algorithm=FLANN_INDEX_KDTREE, trees=5)\n",
    "    search_params = dict(checks=100)\n",
    "    flann = cv2.FlannBasedMatcher(index_params, search_params)\n",
    "    matches = flann.knnMatch(des1, des2, k=2)\n",
    "\n",
    "    # Apply Lowe's SIFT matching ratio test\n",
    "    good = []\n",
    "    for m, n in matches:\n",
    "        if m.distance < 0.8 * n.distance:\n",
    "            good.append(m)\n",
    "\n",
    "    paare = np.array([[m.queryIdx, m.trainIdx] for m in good])\n",
    "    \n",
    "    # Constrain matches to fit homography\n",
    "    retval, mask = cv2.findHomography(\n",
    "        kp1[paare[:, 0]], kp2[paare[:, 1]], cv2.RANSAC, 100.0)\n",
    "    mask = mask.ravel()\n",
    "\n",
    "    # We select only inlier points\n",
    "    paare = paare[mask == 1]\n",
    "    return paare"
   ]
  },
  {
   "cell_type": "code",
   "execution_count": 37,
   "metadata": {},
   "outputs": [],
   "source": [
    "paare = matchPoints(kp1, des1, kp2, des2)\n"
   ]
  },
  {
   "cell_type": "code",
   "execution_count": 38,
   "metadata": {},
   "outputs": [],
   "source": [
    "pts1 = kp1[paare[:,0]].T\n",
    "pts2 = kp2[paare[:,1]].T"
   ]
  },
  {
   "cell_type": "code",
   "execution_count": 39,
   "metadata": {},
   "outputs": [],
   "source": [
    "points1 = processor.cart2hom(pts1)\n",
    "points2 = processor.cart2hom(pts2)\n"
   ]
  },
  {
   "cell_type": "code",
   "execution_count": 41,
   "metadata": {},
   "outputs": [
    {
     "data": {
      "text/plain": [
       "5965"
      ]
     },
     "execution_count": 41,
     "metadata": {},
     "output_type": "execute_result"
    }
   ],
   "source": [
    "len(points2.T)"
   ]
  },
  {
   "cell_type": "code",
   "execution_count": 46,
   "metadata": {},
   "outputs": [
    {
     "name": "stderr",
     "output_type": "stream",
     "text": [
      "qt.qpa.wayland: Wayland does not support QWindow::requestActivate()\n"
     ]
    }
   ],
   "source": [
    "fig, ax = plt.subplots(1, 2)\n",
    "ax[0].autoscale_view('tight')\n",
    "ax[0].imshow(cv2.cvtColor(img1, cv2.COLOR_BGR2RGB))\n",
    "ax[0].plot(points1[0], points1[1], 'r.')\n",
    "ax[1].autoscale_view('tight')\n",
    "ax[1].imshow(cv2.cvtColor(img2, cv2.COLOR_BGR2RGB))\n",
    "ax[1].plot(points2[0], points2[1], 'r.')\n",
    "fig.show()"
   ]
  },
  {
   "cell_type": "code",
   "execution_count": 11,
   "metadata": {},
   "outputs": [
    {
     "data": {
      "text/plain": [
       "array([[2.666e+03, 0.000e+00, 2.000e+03],\n",
       "       [0.000e+00, 2.666e+03, 1.500e+03],\n",
       "       [0.000e+00, 0.000e+00, 1.000e+00]])"
      ]
     },
     "execution_count": 11,
     "metadata": {},
     "output_type": "execute_result"
    }
   ],
   "source": [
    "height, width, ch = img1.shape\n",
    "intrinsic = np.array([  # for dino\n",
    "    [2666, 0, width / 2],\n",
    "    [0, 2666, height / 2],\n",
    "    [0, 0, 1]])\n",
    "intrinsic"
   ]
  },
  {
   "cell_type": "code",
   "execution_count": 12,
   "metadata": {},
   "outputs": [],
   "source": [
    "def scale_and_translate_points(points):\n",
    "    \"\"\" Scale and translate image points so that centroid of the points\n",
    "        are at the origin and avg distance to the origin is equal to sqrt(2).\n",
    "        Hartley p109\n",
    "    :param points: array of homogenous point (3 x n)\n",
    "    :returns: array of same input shape and its normalization matrix\n",
    "    \"\"\"\n",
    "    x = points[0]\n",
    "    y = points[1]\n",
    "    center = points.mean(axis=1)  # mean of each row\n",
    "    cx = x - center[0]  # center the points\n",
    "    cy = y - center[1]\n",
    "    dist = np.sqrt(np.power(cx, 2) + np.power(cy, 2))\n",
    "    scale = np.sqrt(2) / dist.mean()\n",
    "    norm3d = np.array([\n",
    "        [scale, 0, -scale * center[0]],\n",
    "        [0, scale, -scale * center[1]],\n",
    "        [0, 0, 1]\n",
    "    ])\n",
    "\n",
    "    return np.dot(norm3d, points), norm3d\n"
   ]
  },
  {
   "cell_type": "code",
   "execution_count": 13,
   "metadata": {},
   "outputs": [],
   "source": [
    "def correspondence_matrix(p1, p2):\n",
    "    \"\"\"Each row in the A matrix below is constructed as\n",
    "        [x'*x, x'*y, x', y'*x, y'*y, y', x, y, 1]\n",
    "        Hartley p279\"\"\"\n",
    "    p1x, p1y = p1[:2]\n",
    "    p2x, p2y = p2[:2]\n",
    "\n",
    "    return np.array([\n",
    "        p1x * p2x, p1x * p2y, p1x,\n",
    "        p1y * p2x, p1y * p2y, p1y,\n",
    "        p2x, p2y, np.ones(len(p1x))\n",
    "    ]).T\n"
   ]
  },
  {
   "cell_type": "code",
   "execution_count": 14,
   "metadata": {},
   "outputs": [],
   "source": [
    "def compute_essential_normalized(p1, p2):\n",
    "    \"\"\" Computes the fundamental or essential matrix from corresponding points\n",
    "        using the normalized 8 point algorithm.\n",
    "        Hartley p294\n",
    "    :input p1, p2: corresponding points with shape 3 x n\n",
    "    :returns: fundamental or essential matrix with shape 3 x 3\n",
    "    \"\"\"\n",
    "    n = p1.shape[1]\n",
    "    if p2.shape[1] != n:\n",
    "        raise ValueError('Number of points do not match.')\n",
    "\n",
    "    # preprocess image coordinates\n",
    "    # Hartley p282\n",
    "    p1n, T1 = scale_and_translate_points(p1)\n",
    "    p2n, T2 = scale_and_translate_points(p2)\n",
    "\n",
    "    # compute F or E with the coordinates\n",
    "    # Harley p280\n",
    "    A = correspondence_matrix(p1n, p2n)\n",
    "    # compute linear least square solution\n",
    "    U, S, V = np.linalg.svd(A)\n",
    "    F = V[-1].reshape(3, 3)\n",
    "\n",
    "    # constrain F. Make rank 2 by zeroing out last singular value\n",
    "    # Hartley p. 259\n",
    "    U, S, V = np.linalg.svd(F)\n",
    "    # S[-1] = 0 # Fundamental Hartley p.281\n",
    "    S = [1, 1, 0]  # Force rank 2 and equal eigenvalues\n",
    "    F = U @ np.diag(S) @ V\n",
    "\n",
    "    # reverse preprocessing of coordinates\n",
    "    # We know that P1' E P2 = 0\n",
    "    # Hartley p282\n",
    "    F = T1.T@F@T2\n",
    "\n",
    "    return F / F[2, 2]\n"
   ]
  },
  {
   "cell_type": "code",
   "execution_count": 33,
   "metadata": {},
   "outputs": [
    {
     "data": {
      "text/plain": [
       "array([[5.00681543e+00, 4.83281708e+02, 1.00000000e+00],\n",
       "       [5.87610102e+00, 4.69657227e+02, 1.00000000e+00],\n",
       "       [7.58544731e+00, 5.56800293e+02, 1.00000000e+00],\n",
       "       ...,\n",
       "       [3.94745483e+03, 2.12257446e+03, 1.00000000e+00],\n",
       "       [3.98258887e+03, 1.90149707e+03, 1.00000000e+00],\n",
       "       [3.98278540e+03, 1.93612830e+03, 1.00000000e+00]])"
      ]
     },
     "execution_count": 33,
     "metadata": {},
     "output_type": "execute_result"
    }
   ],
   "source": [
    "points1.T"
   ]
  },
  {
   "cell_type": "code",
   "execution_count": 15,
   "metadata": {},
   "outputs": [],
   "source": [
    "# Calculate essential matrix with 2d points.\n",
    "# Result will be up to a scale\n",
    "# First, normalize points\n",
    "# Hartley p257\n",
    "points1n = np.dot(np.linalg.inv(intrinsic), points1)\n",
    "points2n = np.dot(np.linalg.inv(intrinsic), points2)\n",
    "#cv2.undistortPoints(pts1, intrinsic, None)[:,0,:].T"
   ]
  },
  {
   "cell_type": "code",
   "execution_count": 16,
   "metadata": {},
   "outputs": [
    {
     "name": "stdout",
     "output_type": "stream",
     "text": [
      "Computed essential matrix: [[ 0.06389322 -1.          2.84250329]\n",
      " [ 0.99138627 -0.00425722  0.17848343]\n",
      " [-2.81798565 -0.16367283 -0.00958135]]\n"
     ]
    }
   ],
   "source": [
    "E = compute_essential_normalized(points1n, points2n)\n",
    "#E1 = structure.compute_essential_normalized(points1n, points2an)\n",
    "print('Computed essential matrix:', (-E / E[0][1]))\n"
   ]
  },
  {
   "cell_type": "code",
   "execution_count": 193,
   "metadata": {},
   "outputs": [],
   "source": [
    "cv2.__version__\n",
    "cv2E,cv2mask = cv2.findEssentialMat(pts1.T,pts2.T,intrinsic)"
   ]
  },
  {
   "cell_type": "code",
   "execution_count": 17,
   "metadata": {},
   "outputs": [
    {
     "data": {
      "text/plain": [
       "array([[1, 0, 0, 0],\n",
       "       [0, 1, 0, 0],\n",
       "       [0, 0, 1, 0]])"
      ]
     },
     "execution_count": 17,
     "metadata": {},
     "output_type": "execute_result"
    }
   ],
   "source": [
    "P1 = np.array([[1, 0, 0, 0], [0, 1, 0, 0], [0, 0, 1, 0]])\n",
    "P1"
   ]
  },
  {
   "cell_type": "code",
   "execution_count": 36,
   "metadata": {},
   "outputs": [
    {
     "data": {
      "text/plain": [
       "array([[   5.00681543,  483.28170776],\n",
       "       [   5.87610102,  469.65722656],\n",
       "       [   7.58544731,  556.80029297],\n",
       "       ...,\n",
       "       [3947.45483398, 2122.57446289],\n",
       "       [3982.58886719, 1901.49707031],\n",
       "       [3982.78540039, 1936.1282959 ]])"
      ]
     },
     "execution_count": 36,
     "metadata": {},
     "output_type": "execute_result"
    }
   ],
   "source": [
    "pts1.T"
   ]
  },
  {
   "cell_type": "code",
   "execution_count": 19,
   "metadata": {},
   "outputs": [
    {
     "data": {
      "text/plain": [
       "array([[-0.71750892, -0.18505385],\n",
       "       [-0.71739422, -0.18994935],\n",
       "       [-0.71685953, -0.1615237 ],\n",
       "       ...,\n",
       "       [ 0.64000558,  0.48300961],\n",
       "       [ 0.66061514,  0.38415894],\n",
       "       [ 0.65974727,  0.39872981]])"
      ]
     },
     "execution_count": 19,
     "metadata": {},
     "output_type": "execute_result"
    }
   ],
   "source": [
    "points2n[:2].T"
   ]
  },
  {
   "cell_type": "code",
   "execution_count": 31,
   "metadata": {},
   "outputs": [
    {
     "data": {
      "text/plain": [
       "array([[ 9.99961777e-01, -6.86016355e-04,  8.71626051e-03,\n",
       "         5.58119933e-02],\n",
       "       [ 7.02952800e-04,  9.99997871e-01, -1.94017111e-03,\n",
       "        -9.41463173e-01],\n",
       "       [-8.71491096e-03,  1.94622407e-03,  9.99960130e-01,\n",
       "        -3.32463706e-01]])"
      ]
     },
     "execution_count": 31,
     "metadata": {},
     "output_type": "execute_result"
    }
   ],
   "source": [
    "_,R,t,_= cv2.recoverPose(E,points1n[:2].T, points2n[:2].T)\n",
    "R = np.linalg.inv(R)\n",
    "t = -R@t\n",
    "P2 = np.c_[R, t]\n",
    "P2\n"
   ]
  },
  {
   "cell_type": "code",
   "execution_count": 44,
   "metadata": {},
   "outputs": [],
   "source": [
    "tripoints3d = structure.reconstruct_points(points1n, points2n, P1, P2)\n",
    "#tripoints3d = structure.linear_triangulation(points1n, points2n, P1, P2)\n"
   ]
  },
  {
   "cell_type": "code",
   "execution_count": 45,
   "metadata": {},
   "outputs": [
    {
     "name": "stderr",
     "output_type": "stream",
     "text": [
      "qt.qpa.wayland: Wayland does not support QWindow::requestActivate()\n"
     ]
    }
   ],
   "source": [
    "%matplotlib qt\n",
    "fig = plt.figure()\n",
    "fig.suptitle('3D reconstructed', fontsize=16)\n",
    "ax = fig.add_subplot(projection='3d')\n",
    "ax.plot(tripoints3d[0], tripoints3d[1], tripoints3d[2], 'r.')\n",
    "ax.plot([0], [0], [0], 'g.')\n",
    "ax.plot(-P2[0, 3], -P2[1, 3], -P2[2, 3], 'g.')\n",
    "ax.set_xlabel('x axis')\n",
    "ax.set_ylabel('y axis')\n",
    "ax.set_zlabel('z axis')\n",
    "ax.view_init(elev=135, azim=90)\n",
    "plt.axis('square')\n",
    "ax.set_ylim([-2, 3])\n",
    "ax.set_xlim([-2, 3])\n",
    "ax.set_zlim([-2, 3])\n",
    "plt.show()"
   ]
  },
  {
   "cell_type": "code",
   "execution_count": 198,
   "metadata": {},
   "outputs": [
    {
     "data": {
      "text/plain": [
       "array([[-1.09314755, -0.27931835,  1.47116565,  1.        ],\n",
       "       [-1.05746821, -0.47037079,  1.43888271,  1.        ],\n",
       "       [-1.04996903, -0.51556372,  1.43263649,  1.        ],\n",
       "       ...,\n",
       "       [ 1.02456255, -0.1689901 ,  1.37387851,  1.        ],\n",
       "       [ 1.02855111, -0.04014862,  1.37979282,  1.        ],\n",
       "       [ 1.02510663, -0.1647209 ,  1.37342382,  1.        ]])"
      ]
     },
     "execution_count": 198,
     "metadata": {},
     "output_type": "execute_result"
    }
   ],
   "source": [
    "tripoints3d[:,paare2[:,0]].T"
   ]
  },
  {
   "cell_type": "code",
   "execution_count": 199,
   "metadata": {},
   "outputs": [
    {
     "data": {
      "text/plain": [
       "(True,\n",
       " array([[0.18382961],\n",
       "        [0.23114216],\n",
       "        [0.06734857]]),\n",
       " array([[-0.95975861],\n",
       "        [-0.37685316],\n",
       "        [ 0.8876921 ]]))"
      ]
     },
     "execution_count": 199,
     "metadata": {},
     "output_type": "execute_result"
    }
   ],
   "source": [
    "retval, r2,t2,_ = cv2.solvePnPRansac(tripoints3d[:3,paare2[:,0]].T, kp3[paare2[:,1]], intrinsic, None)\n",
    "retval, r2,t2"
   ]
  },
  {
   "cell_type": "code",
   "execution_count": 200,
   "metadata": {},
   "outputs": [
    {
     "data": {
      "text/plain": [
       "array([[ 0.97123966, -0.04523991,  0.23376671, -0.95975861],\n",
       "       [ 0.08740678,  0.98098151, -0.17330702, -0.37685316],\n",
       "       [-0.22148042,  0.18875545,  0.95672243,  0.8876921 ]])"
      ]
     },
     "execution_count": 200,
     "metadata": {},
     "output_type": "execute_result"
    }
   ],
   "source": [
    "R2,_ = cv2.Rodrigues(r2)\n",
    "P3 = np.c_[R2,t2]\n",
    "P3"
   ]
  },
  {
   "cell_type": "code",
   "execution_count": 201,
   "metadata": {},
   "outputs": [
    {
     "data": {
      "text/plain": [
       "array([[-0.67131245, -0.67792652, -0.67900119, ...,  0.15475136,\n",
       "         0.15837437,  0.15512802],\n",
       "       [-0.40379972, -0.49215729, -0.51354701, ..., -0.35468617,\n",
       "        -0.28742586, -0.35241578],\n",
       "       [ 1.        ,  1.        ,  1.        , ...,  1.        ,\n",
       "         1.        ,  1.        ]])"
      ]
     },
     "execution_count": 201,
     "metadata": {},
     "output_type": "execute_result"
    }
   ],
   "source": [
    "points3n = np.dot(np.linalg.inv(intrinsic), points3)\n",
    "points3n\n"
   ]
  },
  {
   "cell_type": "code",
   "execution_count": 202,
   "metadata": {},
   "outputs": [
    {
     "data": {
      "text/plain": [
       "(4, 651)"
      ]
     },
     "execution_count": 202,
     "metadata": {},
     "output_type": "execute_result"
    }
   ],
   "source": [
    "tripoints3d2 = structure.linear_triangulation(\n",
    "    points2n.T[paare2[:, 0]].T, points3n, P2, P3)\n",
    "tripoints3d2.shape"
   ]
  },
  {
   "cell_type": "code",
   "execution_count": 203,
   "metadata": {},
   "outputs": [
    {
     "name": "stderr",
     "output_type": "stream",
     "text": [
      "qt.qpa.wayland: Wayland does not support QWindow::requestActivate()\n"
     ]
    }
   ],
   "source": [
    "%matplotlib qt\n",
    "fig = plt.figure()\n",
    "fig.suptitle('3D reconstructed', fontsize=16)\n",
    "ax = fig.add_subplot(projection='3d')\n",
    "ax.plot(tripoints3d[0], tripoints3d[1], tripoints3d[2], 'r.')\n",
    "ax.plot(tripoints3d2[0], tripoints3d2[1], tripoints3d2[2], 'b.')\n",
    "ax.plot([0], [0], [0], 'g.')\n",
    "ax.plot(-P2[0, 3], -P2[1, 3], -P2[2, 3], 'g.')\n",
    "ax.plot(-t2[0], -t2[1], -t2[2], 'g.')\n",
    "ax.set_xlabel('x axis')\n",
    "ax.set_ylabel('y axis')\n",
    "ax.set_zlabel('z axis')\n",
    "ax.view_init(elev=135, azim=90)\n",
    "plt.axis('square')\n",
    "ax.set_ylim([-1, 1])\n",
    "ax.set_xlim([-1, 1])\n",
    "ax.set_zlim([-1, 2])\n",
    "plt.show()\n"
   ]
  },
  {
   "attachments": {},
   "cell_type": "markdown",
   "metadata": {},
   "source": [
    "## Some more points"
   ]
  },
  {
   "cell_type": "code",
   "execution_count": 204,
   "metadata": {},
   "outputs": [],
   "source": [
    "paare3 = matchPoints(kp2, des2, kp3, des3)\n"
   ]
  },
  {
   "cell_type": "code",
   "execution_count": 205,
   "metadata": {},
   "outputs": [],
   "source": [
    "pts2_3 = kp2[paare3[:, 0]].T\n",
    "pts3_2 = kp3[paare3[:, 1]].T\n",
    "points2_3 = processor.cart2hom(pts2_3)\n",
    "points3_2 = processor.cart2hom(pts3_2)\n",
    "points2_3n = np.dot(np.linalg.inv(intrinsic), points2_3)\n",
    "points3_2n = np.dot(np.linalg.inv(intrinsic), points3_2)\n"
   ]
  },
  {
   "cell_type": "code",
   "execution_count": 206,
   "metadata": {},
   "outputs": [
    {
     "name": "stderr",
     "output_type": "stream",
     "text": [
      "qt.qpa.wayland: Wayland does not support QWindow::requestActivate()\n"
     ]
    }
   ],
   "source": [
    "fig, ax = plt.subplots(1, 3)\n",
    "ax[0].autoscale_view('tight')\n",
    "ax[0].imshow(cv2.cvtColor(img1, cv2.COLOR_BGR2RGB))\n",
    "ax[0].plot(points1[0], points1[1], 'r.')\n",
    "ax[1].autoscale_view('tight')\n",
    "ax[1].imshow(cv2.cvtColor(img2, cv2.COLOR_BGR2RGB))\n",
    "ax[1].plot(points2[0], points2[1], 'r.')\n",
    "ax[2].autoscale_view('tight')\n",
    "ax[2].imshow(cv2.cvtColor(img3, cv2.COLOR_BGR2RGB))\n",
    "ax[2].plot(kp3[paare2[:, 1], 0], kp3[paare2[:, 1], 1], 'r.')\n",
    "ax[1].plot(points2_3[0], points2_3[1], 'b.')\n",
    "ax[2].plot(points3_2[0], points3_2[1], 'b.')\n",
    "fig.show()\n"
   ]
  },
  {
   "cell_type": "code",
   "execution_count": 207,
   "metadata": {},
   "outputs": [
    {
     "data": {
      "text/plain": [
       "(4, 1721)"
      ]
     },
     "execution_count": 207,
     "metadata": {},
     "output_type": "execute_result"
    }
   ],
   "source": [
    "tripoints3d2 = structure.linear_triangulation(\n",
    "    points2_3n, points3_2n, P2, P3)\n",
    "tripoints3d2.shape"
   ]
  },
  {
   "cell_type": "code",
   "execution_count": 208,
   "metadata": {},
   "outputs": [
    {
     "name": "stderr",
     "output_type": "stream",
     "text": [
      "qt.qpa.wayland: Wayland does not support QWindow::requestActivate()\n"
     ]
    }
   ],
   "source": [
    "%matplotlib qt\n",
    "fig = plt.figure()\n",
    "fig.suptitle('3D reconstructed', fontsize=16)\n",
    "ax = fig.add_subplot(projection='3d')\n",
    "ax.plot(tripoints3d[0], tripoints3d[1], tripoints3d[2], 'r.')\n",
    "ax.plot(tripoints3d2[0], tripoints3d2[1], tripoints3d2[2], 'b.')\n",
    "ax.plot([0], [0], [0], 'g.')\n",
    "ax.plot(-P2[0, 3], -P2[1, 3], -P2[2, 3], 'g.')\n",
    "ax.plot(-t2[0], -t2[1], -t2[2], 'g.')\n",
    "ax.set_xlabel('x axis')\n",
    "ax.set_ylabel('y axis')\n",
    "ax.set_zlabel('z axis')\n",
    "ax.view_init(elev=135, azim=90)\n",
    "plt.axis('square')\n",
    "ax.set_ylim([-1, 1])\n",
    "ax.set_xlim([-1, 1])\n",
    "ax.set_zlim([-1, 2])\n",
    "plt.show()\n"
   ]
  },
  {
   "cell_type": "code",
   "execution_count": 209,
   "metadata": {},
   "outputs": [
    {
     "name": "stderr",
     "output_type": "stream",
     "text": [
      "[ WARN:0@11196,679] global /io/opencv/modules/imgcodecs/src/loadsave.cpp (239) findDecoder imread_('../eigenerAnsatz/bildverband2/DJI_0286.JPG'): can't open/read file: check file path/integrity\n"
     ]
    },
    {
     "ename": "error",
     "evalue": "OpenCV(4.6.0) /io/opencv/modules/imgproc/src/color.cpp:182: error: (-215:Assertion failed) !_src.empty() in function 'cvtColor'\n",
     "output_type": "error",
     "traceback": [
      "\u001b[0;31m---------------------------------------------------------------------------\u001b[0m",
      "\u001b[0;31merror\u001b[0m                                     Traceback (most recent call last)",
      "Cell \u001b[0;32mIn [209], line 3\u001b[0m\n\u001b[1;32m      1\u001b[0m img4 \u001b[39m=\u001b[39m cv2\u001b[39m.\u001b[39mimread(\u001b[39m'\u001b[39m\u001b[39m../eigenerAnsatz/bildverband2/DJI_0286.JPG\u001b[39m\u001b[39m'\u001b[39m)\n\u001b[1;32m      2\u001b[0m kp4, des4 \u001b[39m=\u001b[39m sift\u001b[39m.\u001b[39mdetectAndCompute(\n\u001b[0;32m----> 3\u001b[0m     cv2\u001b[39m.\u001b[39;49mcvtColor(img4, cv2\u001b[39m.\u001b[39;49mCOLOR_BGR2GRAY), \u001b[39mNone\u001b[39;00m)\n\u001b[1;32m      4\u001b[0m kp4 \u001b[39m=\u001b[39m np\u001b[39m.\u001b[39marray([n\u001b[39m.\u001b[39mpt \u001b[39mfor\u001b[39;00m n \u001b[39min\u001b[39;00m kp4])\n\u001b[1;32m      6\u001b[0m paare4 \u001b[39m=\u001b[39m matchPoints(kp3, des3, kp4, des4)\n",
      "\u001b[0;31merror\u001b[0m: OpenCV(4.6.0) /io/opencv/modules/imgproc/src/color.cpp:182: error: (-215:Assertion failed) !_src.empty() in function 'cvtColor'\n"
     ]
    }
   ],
   "source": [
    "img4 = cv2.imread('../eigenerAnsatz/bildverband2/DJI_0286.JPG')\n",
    "kp4, des4 = sift.detectAndCompute(\n",
    "    cv2.cvtColor(img4, cv2.COLOR_BGR2GRAY), None)\n",
    "kp4 = np.array([n.pt for n in kp4])\n",
    "\n",
    "paare4 = matchPoints(kp3, des3, kp4, des4)"
   ]
  },
  {
   "cell_type": "code",
   "execution_count": null,
   "metadata": {},
   "outputs": [],
   "source": [
    "\n",
    "pts3_4 = kp3[paare4[:, 0]].T\n",
    "pts4_3 = kp4[paare4[:, 1]].T\n",
    "points3_4 = processor.cart2hom(pts3_4)\n",
    "points4_3 = processor.cart2hom(pts4_3)\n",
    "points3_4n = np.dot(np.linalg.inv(intrinsic), points3_4)\n",
    "points4_3n = np.dot(np.linalg.inv(intrinsic), points4_3)\n"
   ]
  },
  {
   "cell_type": "code",
   "execution_count": null,
   "metadata": {},
   "outputs": [
    {
     "name": "stderr",
     "output_type": "stream",
     "text": [
      "qt.qpa.wayland: Wayland does not support QWindow::requestActivate()\n"
     ]
    }
   ],
   "source": [
    "fig, ax = plt.subplots(1, 2)\n",
    "ax[0].autoscale_view('tight')\n",
    "ax[0].imshow(cv2.cvtColor(img3, cv2.COLOR_BGR2RGB))\n",
    "ax[0].plot(points3_4[0], points3_4[1], 'r.')\n",
    "ax[1].autoscale_view('tight')\n",
    "ax[1].imshow(cv2.cvtColor(img4, cv2.COLOR_BGR2RGB))\n",
    "ax[1].plot(points4_3[0], points4_3[1], 'r.')\n",
    "fig.show()\n"
   ]
  },
  {
   "attachments": {},
   "cell_type": "markdown",
   "metadata": {},
   "source": [
    "## Bundle Adjustment"
   ]
  },
  {
   "cell_type": "code",
   "execution_count": 210,
   "metadata": {},
   "outputs": [],
   "source": [
    "from scipy.optimize import least_squares\n",
    "from scipy.sparse import lil_matrix"
   ]
  },
  {
   "cell_type": "code",
   "execution_count": 211,
   "metadata": {},
   "outputs": [],
   "source": [
    "r1,_ = cv2.Rodrigues(np.float32(P1[:3, :3]))\n",
    "t1 = P1[:,3]\n",
    "r2, _ = cv2.Rodrigues(np.float32(P2[:3, :3]))\n",
    "t2 = P2[:, 3]\n",
    "r3, _ = cv2.Rodrigues(np.float32(P3[:3, :3]))\n",
    "t3 = P3[:, 3]\n",
    "fx = intrinsic[0,0]\n",
    "fy = intrinsic[1,1]\n",
    "cx = intrinsic[0,2]\n",
    "cy = intrinsic[1,2]"
   ]
  },
  {
   "cell_type": "code",
   "execution_count": null,
   "metadata": {},
   "outputs": [],
   "source": [
    "tripoints3d.shape"
   ]
  },
  {
   "cell_type": "code",
   "execution_count": 212,
   "metadata": {},
   "outputs": [],
   "source": [
    "x0 = np.hstack((fx,fy,cx,cy,r1.ravel(),t1.ravel(),r2.ravel(),t2.ravel(),r3.ravel(),t3.ravel(),(tripoints3d[:3,:]).T.ravel()))"
   ]
  },
  {
   "cell_type": "code",
   "execution_count": 213,
   "metadata": {},
   "outputs": [],
   "source": [
    "l = np.hstack((pts1.T.ravel(),pts2.T.ravel(),pts3.T.ravel()))"
   ]
  },
  {
   "cell_type": "code",
   "execution_count": null,
   "metadata": {},
   "outputs": [],
   "source": [
    "def project(x0):\n",
    "    fx = x0[0]\n",
    "    fy = x0[1]\n",
    "    cx = x0[2]\n",
    "    cy = x0[3]\n",
    "    \n",
    "    K = np.array([[fx,0,cx],[0,fy,cy],[0,0,1]])\n",
    "\n",
    "    r1 = x0[4:7]\n",
    "    t1 = x0[7:10]\n",
    "    r2 = x0[10:13]\n",
    "    t2 = x0[13:16]\n",
    "    r3 = x0[16:19]\n",
    "    t3 = x0[19:22]\n",
    "\n",
    "    coords = x0[22:]\n",
    "    coords = coords.reshape(len(coords)//3,3)\n",
    "\n",
    "    p1,_ = cv2.projectPoints(coords, r1,t1,K,None)\n",
    "    p2, _ = cv2.projectPoints(coords, r2, t2, K, None)\n",
    "    p3, _ = cv2.projectPoints(coords[paare2[:, 0]], r3, t3, K, None)\n",
    "\n",
    "    p = np.hstack((p1.ravel(),p2.ravel(),p3.ravel()))\n",
    "    return p-l\n"
   ]
  },
  {
   "cell_type": "code",
   "execution_count": 214,
   "metadata": {},
   "outputs": [
    {
     "name": "stdout",
     "output_type": "stream",
     "text": [
      "(16174, 11176)\n",
      "11176\n",
      "16173\n"
     ]
    }
   ],
   "source": [
    "A = lil_matrix((len(l), len(x0)), dtype=int)\n",
    "print(A.shape)\n",
    "A[:, :4] = 1\n",
    "n1 = len(pts1.T)\n",
    "n3 = len(paare2[:, 0])\n",
    "for i in range(n1):\n",
    "    A[2*i:2*i+2, 4:10] = 1\n",
    "    A[2*i:2*i+2, 22+i*3:25+i*3] = 1\n",
    "\n",
    "maxy = 0\n",
    "for i in range(n1):\n",
    "    A[2*(n1+i):2*(n1+i)+2, 10:16] = 1\n",
    "    A[2*(n1+i):2*(n1+i)+2, 22+i*3:25+i*3] = 1\n",
    "    maxy = 25+i*3\n",
    "print(maxy)\n",
    "\n",
    "max = 0\n",
    "for i in range(n3):\n",
    "    v = n1 + n1\n",
    "    A[2*(v+i):2*(v+i)+2, 16:22] = 1\n",
    "    z = paare2[i, 0]\n",
    "    A[2*(v+i):2*(v+i)+2, 22+z*3:25+z*3] = 1\n",
    "    max = 2*(v+i)+1\n",
    "print(max)\n"
   ]
  },
  {
   "cell_type": "code",
   "execution_count": 215,
   "metadata": {},
   "outputs": [
    {
     "name": "stdout",
     "output_type": "stream",
     "text": [
      "   Iteration     Total nfev        Cost      Cost reduction    Step norm     Optimality   \n",
      "       0              1         1.1459e+06                                    3.74e+07    \n",
      "       1              2         8.6522e+05      2.81e+05       4.28e+02       8.02e+07    \n",
      "       2              3         7.2123e+04      7.93e+05       1.19e+02       1.25e+07    \n",
      "       3              4         5.0130e+04      2.20e+04       2.53e+01       8.47e+06    \n",
      "       4              7         4.5211e+04      4.92e+03       1.97e+00       3.91e+06    \n",
      "       5              9         3.9603e+04      5.61e+03       3.64e+00       1.75e+06    \n",
      "       6             10         3.4131e+04      5.47e+03       8.42e+00       2.02e+05    \n",
      "       7             11         3.3808e+04      3.23e+02       1.03e+01       1.03e+06    \n",
      "       8             13         3.3709e+04      9.93e+01       1.31e+00       2.26e+05    \n",
      "       9             14         3.3607e+04      1.01e+02       2.27e+00       1.31e+06    \n",
      "      10             15         3.3433e+04      1.74e+02       4.95e+00       1.39e+06    \n",
      "      11             16         3.3295e+04      1.38e+02       2.41e+00       1.60e+06    \n",
      "      12             17         3.3094e+04      2.01e+02       3.44e+00       1.82e+06    \n",
      "      13             18         3.2944e+04      1.50e+02       3.39e+00       1.90e+06    \n",
      "      14             19         3.2834e+04      1.11e+02       2.23e+00       1.98e+06    \n",
      "      15             20         3.2764e+04      6.99e+01       2.28e+00       2.16e+06    \n",
      "      16             21         3.2697e+04      6.73e+01       2.46e+00       1.95e+06    \n",
      "      17             22         3.2608e+04      8.85e+01       2.79e+00       8.59e+05    \n",
      "      18             23         3.2596e+04      1.23e+01       2.93e+00       2.19e+06    \n",
      "      19             24         3.2505e+04      9.07e+01       9.73e-01       1.17e+04    \n",
      "      20             25         3.2490e+04      1.50e+01       8.20e-01       1.30e+05    \n",
      "`ftol` termination condition is satisfied.\n",
      "Function evaluations 25, initial cost 1.1459e+06, final cost 3.2490e+04, first-order optimality 1.30e+05.\n"
     ]
    }
   ],
   "source": [
    "res = least_squares(project, x0, jac_sparsity=A, verbose=2,\n",
    "                    x_scale='jac', method='trf', ftol=1e-3)\n"
   ]
  },
  {
   "cell_type": "code",
   "execution_count": 216,
   "metadata": {},
   "outputs": [
    {
     "data": {
      "text/plain": [
       "array([[3.02256428e+03, 0.00000000e+00, 1.98994522e+03],\n",
       "       [0.00000000e+00, 3.09675655e+03, 1.52832775e+03],\n",
       "       [0.00000000e+00, 0.00000000e+00, 1.00000000e+00]])"
      ]
     },
     "execution_count": 216,
     "metadata": {},
     "output_type": "execute_result"
    }
   ],
   "source": [
    "fx = res.x[0]\n",
    "fy = res.x[1]\n",
    "cx = res.x[2]\n",
    "cy = res.x[3]\n",
    "\n",
    "K = np.array([[fx, 0, cx], [0, fy, cy], [0, 0, 1]])\n",
    "K"
   ]
  },
  {
   "cell_type": "code",
   "execution_count": null,
   "metadata": {},
   "outputs": [
    {
     "data": {
      "text/plain": [
       "array([[3.03065e+03, 0.00000e+00, 1.99400e+03],\n",
       "       [0.00000e+00, 3.03065e+03, 1.51700e+03],\n",
       "       [0.00000e+00, 0.00000e+00, 1.00000e+00]])"
      ]
     },
     "execution_count": 161,
     "metadata": {},
     "output_type": "execute_result"
    }
   ],
   "source": [
    "intrinsic"
   ]
  },
  {
   "cell_type": "code",
   "execution_count": null,
   "metadata": {},
   "outputs": [
    {
     "data": {
      "text/plain": [
       "array([-0.0404609 ,  0.17624789, -0.02722565, ...,  0.41697638,\n",
       "        0.18808221,  0.08948673])"
      ]
     },
     "execution_count": 162,
     "metadata": {},
     "output_type": "execute_result"
    }
   ],
   "source": [
    "project(res.x)"
   ]
  },
  {
   "cell_type": "code",
   "execution_count": null,
   "metadata": {},
   "outputs": [
    {
     "data": {
      "text/plain": [
       "array([ 0.1297351 , -8.40141561, -0.82005433, ...,  2.6961935 ,\n",
       "        0.60731242, -0.56346457])"
      ]
     },
     "execution_count": 47,
     "metadata": {},
     "output_type": "execute_result"
    }
   ],
   "source": [
    "project(x0)\n"
   ]
  },
  {
   "cell_type": "code",
   "execution_count": null,
   "metadata": {},
   "outputs": [
    {
     "name": "stdout",
     "output_type": "stream",
     "text": [
      "[ 0.03902937 -0.02478732  0.16187788]\n",
      "[-0.00160075 -0.07985368  0.30009052]\n",
      "[-0.09842735 -0.02812442  0.29874675]\n"
     ]
    }
   ],
   "source": [
    "coords_new = res.x[22:]\n",
    "coords_new = coords_new.reshape(len(coords_new)//3,3)\n",
    "\n",
    "print(t1-res.x[7:10])\n",
    "print(t2-res.x[13:16])\n",
    "print(t3-res.x[19:22])\n"
   ]
  },
  {
   "cell_type": "code",
   "execution_count": null,
   "metadata": {},
   "outputs": [
    {
     "data": {
      "text/plain": [
       "array([[-0.86589095, -0.87965045, -0.8648269 , ...,  0.76293974,\n",
       "         0.78786404,  0.75477269],\n",
       "       [-0.34577468, -0.21544822, -0.33023573, ..., -0.03140646,\n",
       "         0.20167333, -0.11879695],\n",
       "       [ 1.4599285 ,  1.47767347,  1.45985475, ...,  1.33145649,\n",
       "         1.36593493,  1.31922673]])"
      ]
     },
     "execution_count": 50,
     "metadata": {},
     "output_type": "execute_result"
    }
   ],
   "source": [
    "coords_new.T"
   ]
  },
  {
   "cell_type": "code",
   "execution_count": null,
   "metadata": {},
   "outputs": [
    {
     "name": "stderr",
     "output_type": "stream",
     "text": [
      "qt.qpa.wayland: Wayland does not support QWindow::requestActivate()\n"
     ]
    }
   ],
   "source": [
    "%matplotlib qt\n",
    "fig = plt.figure()\n",
    "fig.suptitle('3D reconstructed', fontsize=16)\n",
    "ax = fig.add_subplot(projection='3d')\n",
    "ax.plot(coords_new.T[0], coords_new.T[1], coords_new.T[2], 'r.')\n",
    "ax.plot(-t1[0], -t1[1], -t1[2], 'g.')\n",
    "ax.plot(-t2[0], -t2[1], -t2[2], 'g.')\n",
    "ax.plot(-t3[0], -t3[1], -t3[2], 'g.')\n",
    "ax.set_xlabel('x axis')\n",
    "ax.set_ylabel('y axis')\n",
    "ax.set_zlabel('z axis')\n",
    "ax.view_init(elev=135, azim=90)\n",
    "plt.axis('square')\n",
    "ax.set_ylim([-1, 2])\n",
    "ax.set_xlim([-1, 2])\n",
    "ax.set_zlim([-1, 2])\n",
    "plt.show()\n"
   ]
  },
  {
   "cell_type": "code",
   "execution_count": null,
   "metadata": {},
   "outputs": [],
   "source": [
    "print(t1,t2,t3)\n",
    "t23 = t3-t2\n",
    "(t23@t23)**0.5"
   ]
  },
  {
   "cell_type": "code",
   "execution_count": null,
   "metadata": {},
   "outputs": [],
   "source": [
    "cv2.stereo.QuasiDenseStereo_create"
   ]
  }
 ],
 "metadata": {
  "kernelspec": {
   "display_name": "Python 3",
   "language": "python",
   "name": "python3"
  },
  "language_info": {
   "codemirror_mode": {
    "name": "ipython",
    "version": 3
   },
   "file_extension": ".py",
   "mimetype": "text/x-python",
   "name": "python",
   "nbconvert_exporter": "python",
   "pygments_lexer": "ipython3",
   "version": "3.10.7"
  },
  "orig_nbformat": 4,
  "vscode": {
   "interpreter": {
    "hash": "e7370f93d1d0cde622a1f8e1c04877d8463912d04d973331ad4851f04de6915a"
   }
  }
 },
 "nbformat": 4,
 "nbformat_minor": 2
}
